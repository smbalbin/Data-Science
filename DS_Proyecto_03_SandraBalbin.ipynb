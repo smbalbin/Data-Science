{
 "cells": [
  {
   "cell_type": "markdown",
   "metadata": {
    "id": "gzJLet17WTzh"
   },
   "source": [
    "# Proyecto 03 - Sistemas de Recomendación\n",
    "\n",
    "***Presentado por:*** *Sandra Marcela Balbin Agudelo*\n",
    "***Grupo:*** *DS-ONLINE-38*\n",
    "\n",
    "## Dataset: STEAM\n",
    "\n",
    "**Recuerda descargar el dataset de [aquí](https://github.com/kang205/SASRec). Son dos archivos, uno de calificaciones y otro de información sobre los juegos.**\n",
    "\n",
    "En este notebook te dejamos unas celdas para que puedas comenzar a trabajar con este dataset. Sin embargo, **deberás** modificarlas para hacer un mejor manejo de datos. Algunas cosas a las que deberás prestar atención (tal vez no a todas):\n",
    "1. Tipos de datos: elige tipos de datos apropiados para cada columna.\n",
    "2. Descartar columnas poco informativas.\n",
    "3. Guardar en memoria datasets preprocesados para no tener que repetir código que tarde en correr.\n",
    "\n",
    "### Exploración de datos\n",
    "\n",
    "Dedícale un buen tiempo a hacer un Análisis Exploratorio de Datos. Elige preguntas que creas que puedas responder con este dataset. Por ejemplo, ¿cuáles son los juegos más populares?¿Y los menos populares?\n",
    "\n",
    "### Filtro Colaborativo\n",
    "\n",
    "Deberás implementar un sistema de recomendación colaborativo para este dataset. Ten en cuenta:\n",
    "\n",
    "1. Haz todas las transformaciones de datos que consideres necesarias. Justifica.\n",
    "1. Evalúa de forma apropiada sus resultados. Justifica la métrica elegida.\n",
    "1. Elige un modelo benchmark y compara tus resultados con este modelo.\n",
    "1. Optimiza los hiperparámetros de tu modelo.\n",
    "\n",
    "Puedes implementar un filtro colaborativo a partir de la similitud coseno o índice de Jaccard. ¿Puedes utilizar los métodos de la librería Surprise? Si no es así, busca implementaciones (por ejemplo, nuevas librerías) que sean apropiadas.\n",
    "\n",
    "Para comenzar a trabajar, puedes asumir que cada entrada es un enlace entre una persona usuaria y un item, **independientemente** de si la crítica es buena o mala. \n",
    "\n",
    "### Para pensar, investigar y, opcionalmente, implementar\n",
    "1. ¿Cómo harías para ponerle un valor a la calificación?\n",
    "1. ¿Cómo harías para agregar contenido? Por ejemplo, cuentas con el género, precio, fecha de lanzamiento y más información de los juegos.\n",
    "1. ¿Hay algo que te gustaría investigar o probar?\n",
    "\n",
    "### **¡Tómate tiempo para investigar y leer mucho!**"
   ]
  },
  {
   "cell_type": "code",
   "execution_count": 163,
   "metadata": {
    "id": "lWZhtUxEWTzj"
   },
   "outputs": [],
   "source": [
    "import numpy as np\n",
    "import pandas as pd\n",
    "import matplotlib.pyplot as plt\n",
    "import seaborn as sns\n",
    "import gzip\n",
    "\n",
    "pd.set_option('display.width', 150)\n",
    "\n",
    "def parse(path):\n",
    "    g = gzip.open(path, 'r')\n",
    "    for l in g:\n",
    "        yield eval(l)"
   ]
  },
  {
   "cell_type": "markdown",
   "metadata": {
    "id": "BmEM25k4WTzw"
   },
   "source": [
    "**Carga Dataset - Reviews**"
   ]
  },
  {
   "cell_type": "code",
   "execution_count": 164,
   "metadata": {
    "id": "abAXItn1WTz0"
   },
   "outputs": [],
   "source": [
    "contador = 0\n",
    "data_reviews = []\n",
    "n = 10\n",
    "for l in parse('steam_reviews.json.gz'):\n",
    "    if contador%n == 0:\n",
    "        data_reviews.append(l)\n",
    "    else:\n",
    "        pass\n",
    "    contador += 1"
   ]
  },
  {
   "cell_type": "code",
   "execution_count": 165,
   "metadata": {
    "id": "7GovAZQBWTz8"
   },
   "outputs": [],
   "source": [
    "data_reviews = pd.DataFrame(data_reviews)"
   ]
  },
  {
   "cell_type": "code",
   "execution_count": 166,
   "metadata": {
    "id": "j24F0ZaYWT0E"
   },
   "outputs": [
    {
     "data": {
      "text/html": [
       "<div>\n",
       "<style scoped>\n",
       "    .dataframe tbody tr th:only-of-type {\n",
       "        vertical-align: middle;\n",
       "    }\n",
       "\n",
       "    .dataframe tbody tr th {\n",
       "        vertical-align: top;\n",
       "    }\n",
       "\n",
       "    .dataframe thead th {\n",
       "        text-align: right;\n",
       "    }\n",
       "</style>\n",
       "<table border=\"1\" class=\"dataframe\">\n",
       "  <thead>\n",
       "    <tr style=\"text-align: right;\">\n",
       "      <th></th>\n",
       "      <th>username</th>\n",
       "      <th>hours</th>\n",
       "      <th>products</th>\n",
       "      <th>product_id</th>\n",
       "      <th>page_order</th>\n",
       "      <th>date</th>\n",
       "      <th>text</th>\n",
       "      <th>early_access</th>\n",
       "      <th>page</th>\n",
       "      <th>user_id</th>\n",
       "      <th>compensation</th>\n",
       "      <th>found_funny</th>\n",
       "    </tr>\n",
       "  </thead>\n",
       "  <tbody>\n",
       "    <tr>\n",
       "      <th>0</th>\n",
       "      <td>Chaos Syren</td>\n",
       "      <td>0.1</td>\n",
       "      <td>41.0</td>\n",
       "      <td>725280</td>\n",
       "      <td>0</td>\n",
       "      <td>2017-12-17</td>\n",
       "      <td>This would not be acceptable as an entertainme...</td>\n",
       "      <td>False</td>\n",
       "      <td>1</td>\n",
       "      <td>NaN</td>\n",
       "      <td>NaN</td>\n",
       "      <td>NaN</td>\n",
       "    </tr>\n",
       "    <tr>\n",
       "      <th>1</th>\n",
       "      <td>Ariman1</td>\n",
       "      <td>13.2</td>\n",
       "      <td>1386.0</td>\n",
       "      <td>328100</td>\n",
       "      <td>2</td>\n",
       "      <td>2017-08-02</td>\n",
       "      <td>Addictive RPG ! Works fine on linux though it ...</td>\n",
       "      <td>False</td>\n",
       "      <td>1</td>\n",
       "      <td>NaN</td>\n",
       "      <td>NaN</td>\n",
       "      <td>NaN</td>\n",
       "    </tr>\n",
       "    <tr>\n",
       "      <th>2</th>\n",
       "      <td>freakfantom</td>\n",
       "      <td>0.1</td>\n",
       "      <td>1706.0</td>\n",
       "      <td>725280</td>\n",
       "      <td>5</td>\n",
       "      <td>2017-11-12</td>\n",
       "      <td>Прикольная стрелялка. Взял дешево на распродаже.</td>\n",
       "      <td>False</td>\n",
       "      <td>1</td>\n",
       "      <td>NaN</td>\n",
       "      <td>NaN</td>\n",
       "      <td>NaN</td>\n",
       "    </tr>\n",
       "    <tr>\n",
       "      <th>3</th>\n",
       "      <td>The_Cpt_FROGGY</td>\n",
       "      <td>7.8</td>\n",
       "      <td>2217.0</td>\n",
       "      <td>631920</td>\n",
       "      <td>0</td>\n",
       "      <td>2017-12-11</td>\n",
       "      <td>Somewhere on Zibylon:\\n~~~~~~~~~~~~~~~~~~\\nZib...</td>\n",
       "      <td>False</td>\n",
       "      <td>1</td>\n",
       "      <td>76561198003030375</td>\n",
       "      <td>Product received for free</td>\n",
       "      <td>NaN</td>\n",
       "    </tr>\n",
       "    <tr>\n",
       "      <th>4</th>\n",
       "      <td>the_maker988</td>\n",
       "      <td>8.2</td>\n",
       "      <td>18.0</td>\n",
       "      <td>35140</td>\n",
       "      <td>7</td>\n",
       "      <td>2018-01-02</td>\n",
       "      <td>This game was way to linear for me, and compar...</td>\n",
       "      <td>False</td>\n",
       "      <td>1</td>\n",
       "      <td>76561198353396844</td>\n",
       "      <td>NaN</td>\n",
       "      <td>NaN</td>\n",
       "    </tr>\n",
       "  </tbody>\n",
       "</table>\n",
       "</div>"
      ],
      "text/plain": [
       "         username  hours  products product_id  page_order        date                                               text  early_access  page  \\\n",
       "0     Chaos Syren    0.1      41.0     725280           0  2017-12-17  This would not be acceptable as an entertainme...         False     1   \n",
       "1         Ariman1   13.2    1386.0     328100           2  2017-08-02  Addictive RPG ! Works fine on linux though it ...         False     1   \n",
       "2     freakfantom    0.1    1706.0     725280           5  2017-11-12   Прикольная стрелялка. Взял дешево на распродаже.         False     1   \n",
       "3  The_Cpt_FROGGY    7.8    2217.0     631920           0  2017-12-11  Somewhere on Zibylon:\\n~~~~~~~~~~~~~~~~~~\\nZib...         False     1   \n",
       "4    the_maker988    8.2      18.0      35140           7  2018-01-02  This game was way to linear for me, and compar...         False     1   \n",
       "\n",
       "             user_id               compensation  found_funny  \n",
       "0                NaN                        NaN          NaN  \n",
       "1                NaN                        NaN          NaN  \n",
       "2                NaN                        NaN          NaN  \n",
       "3  76561198003030375  Product received for free          NaN  \n",
       "4  76561198353396844                        NaN          NaN  "
      ]
     },
     "execution_count": 166,
     "metadata": {},
     "output_type": "execute_result"
    }
   ],
   "source": [
    "data_reviews.head(5)"
   ]
  },
  {
   "cell_type": "code",
   "execution_count": 167,
   "metadata": {},
   "outputs": [
    {
     "data": {
      "text/plain": [
       "(779307, 12)"
      ]
     },
     "execution_count": 167,
     "metadata": {},
     "output_type": "execute_result"
    }
   ],
   "source": [
    "data_reviews.shape"
   ]
  },
  {
   "cell_type": "code",
   "execution_count": 168,
   "metadata": {
    "id": "8F-EVRZ4WT0L"
   },
   "outputs": [
    {
     "data": {
      "text/plain": [
       "username             0\n",
       "hours             2637\n",
       "products          1566\n",
       "product_id           0\n",
       "page_order           0\n",
       "date                 0\n",
       "text                 0\n",
       "early_access         0\n",
       "page                 0\n",
       "user_id         461967\n",
       "compensation    764719\n",
       "found_funny     659143\n",
       "dtype: int64"
      ]
     },
     "execution_count": 168,
     "metadata": {},
     "output_type": "execute_result"
    }
   ],
   "source": [
    "data_reviews.isna().sum()"
   ]
  },
  {
   "cell_type": "markdown",
   "metadata": {
    "id": "04ed3teRWT0T"
   },
   "source": [
    "**Carga Dataset - Games**"
   ]
  },
  {
   "cell_type": "code",
   "execution_count": 169,
   "metadata": {
    "id": "8wRb24Y5WT0U"
   },
   "outputs": [],
   "source": [
    "data_games = []\n",
    "for l in parse('steam_games.json.gz'):\n",
    "    data_games.append(l)\n",
    "data_games = pd.DataFrame(data_games)"
   ]
  },
  {
   "cell_type": "code",
   "execution_count": 170,
   "metadata": {
    "id": "sVR0Cs6SWT0b"
   },
   "outputs": [
    {
     "data": {
      "text/html": [
       "<div>\n",
       "<style scoped>\n",
       "    .dataframe tbody tr th:only-of-type {\n",
       "        vertical-align: middle;\n",
       "    }\n",
       "\n",
       "    .dataframe tbody tr th {\n",
       "        vertical-align: top;\n",
       "    }\n",
       "\n",
       "    .dataframe thead th {\n",
       "        text-align: right;\n",
       "    }\n",
       "</style>\n",
       "<table border=\"1\" class=\"dataframe\">\n",
       "  <thead>\n",
       "    <tr style=\"text-align: right;\">\n",
       "      <th></th>\n",
       "      <th>publisher</th>\n",
       "      <th>genres</th>\n",
       "      <th>app_name</th>\n",
       "      <th>title</th>\n",
       "      <th>url</th>\n",
       "      <th>release_date</th>\n",
       "      <th>tags</th>\n",
       "      <th>discount_price</th>\n",
       "      <th>reviews_url</th>\n",
       "      <th>specs</th>\n",
       "      <th>price</th>\n",
       "      <th>early_access</th>\n",
       "      <th>id</th>\n",
       "      <th>developer</th>\n",
       "      <th>sentiment</th>\n",
       "      <th>metascore</th>\n",
       "    </tr>\n",
       "  </thead>\n",
       "  <tbody>\n",
       "    <tr>\n",
       "      <th>0</th>\n",
       "      <td>Kotoshiro</td>\n",
       "      <td>[Action, Casual, Indie, Simulation, Strategy]</td>\n",
       "      <td>Lost Summoner Kitty</td>\n",
       "      <td>Lost Summoner Kitty</td>\n",
       "      <td>http://store.steampowered.com/app/761140/Lost_...</td>\n",
       "      <td>2018-01-04</td>\n",
       "      <td>[Strategy, Action, Indie, Casual, Simulation]</td>\n",
       "      <td>4.49</td>\n",
       "      <td>http://steamcommunity.com/app/761140/reviews/?...</td>\n",
       "      <td>[Single-player]</td>\n",
       "      <td>4.99</td>\n",
       "      <td>False</td>\n",
       "      <td>761140</td>\n",
       "      <td>Kotoshiro</td>\n",
       "      <td>NaN</td>\n",
       "      <td>NaN</td>\n",
       "    </tr>\n",
       "    <tr>\n",
       "      <th>1</th>\n",
       "      <td>Making Fun, Inc.</td>\n",
       "      <td>[Free to Play, Indie, RPG, Strategy]</td>\n",
       "      <td>Ironbound</td>\n",
       "      <td>Ironbound</td>\n",
       "      <td>http://store.steampowered.com/app/643980/Ironb...</td>\n",
       "      <td>2018-01-04</td>\n",
       "      <td>[Free to Play, Strategy, Indie, RPG, Card Game...</td>\n",
       "      <td>NaN</td>\n",
       "      <td>http://steamcommunity.com/app/643980/reviews/?...</td>\n",
       "      <td>[Single-player, Multi-player, Online Multi-Pla...</td>\n",
       "      <td>Free To Play</td>\n",
       "      <td>False</td>\n",
       "      <td>643980</td>\n",
       "      <td>Secret Level SRL</td>\n",
       "      <td>Mostly Positive</td>\n",
       "      <td>NaN</td>\n",
       "    </tr>\n",
       "    <tr>\n",
       "      <th>2</th>\n",
       "      <td>Poolians.com</td>\n",
       "      <td>[Casual, Free to Play, Indie, Simulation, Sports]</td>\n",
       "      <td>Real Pool 3D - Poolians</td>\n",
       "      <td>Real Pool 3D - Poolians</td>\n",
       "      <td>http://store.steampowered.com/app/670290/Real_...</td>\n",
       "      <td>2017-07-24</td>\n",
       "      <td>[Free to Play, Simulation, Sports, Casual, Ind...</td>\n",
       "      <td>NaN</td>\n",
       "      <td>http://steamcommunity.com/app/670290/reviews/?...</td>\n",
       "      <td>[Single-player, Multi-player, Online Multi-Pla...</td>\n",
       "      <td>Free to Play</td>\n",
       "      <td>False</td>\n",
       "      <td>670290</td>\n",
       "      <td>Poolians.com</td>\n",
       "      <td>Mostly Positive</td>\n",
       "      <td>NaN</td>\n",
       "    </tr>\n",
       "    <tr>\n",
       "      <th>3</th>\n",
       "      <td>彼岸领域</td>\n",
       "      <td>[Action, Adventure, Casual]</td>\n",
       "      <td>弹炸人2222</td>\n",
       "      <td>弹炸人2222</td>\n",
       "      <td>http://store.steampowered.com/app/767400/2222/</td>\n",
       "      <td>2017-12-07</td>\n",
       "      <td>[Action, Adventure, Casual]</td>\n",
       "      <td>0.83</td>\n",
       "      <td>http://steamcommunity.com/app/767400/reviews/?...</td>\n",
       "      <td>[Single-player]</td>\n",
       "      <td>0.99</td>\n",
       "      <td>False</td>\n",
       "      <td>767400</td>\n",
       "      <td>彼岸领域</td>\n",
       "      <td>NaN</td>\n",
       "      <td>NaN</td>\n",
       "    </tr>\n",
       "    <tr>\n",
       "      <th>4</th>\n",
       "      <td>NaN</td>\n",
       "      <td>NaN</td>\n",
       "      <td>Log Challenge</td>\n",
       "      <td>NaN</td>\n",
       "      <td>http://store.steampowered.com/app/773570/Log_C...</td>\n",
       "      <td>NaN</td>\n",
       "      <td>[Action, Indie, Casual, Sports]</td>\n",
       "      <td>1.79</td>\n",
       "      <td>http://steamcommunity.com/app/773570/reviews/?...</td>\n",
       "      <td>[Single-player, Full controller support, HTC V...</td>\n",
       "      <td>2.99</td>\n",
       "      <td>False</td>\n",
       "      <td>773570</td>\n",
       "      <td>NaN</td>\n",
       "      <td>NaN</td>\n",
       "      <td>NaN</td>\n",
       "    </tr>\n",
       "  </tbody>\n",
       "</table>\n",
       "</div>"
      ],
      "text/plain": [
       "          publisher                                             genres                 app_name                    title  \\\n",
       "0         Kotoshiro      [Action, Casual, Indie, Simulation, Strategy]      Lost Summoner Kitty      Lost Summoner Kitty   \n",
       "1  Making Fun, Inc.               [Free to Play, Indie, RPG, Strategy]                Ironbound                Ironbound   \n",
       "2      Poolians.com  [Casual, Free to Play, Indie, Simulation, Sports]  Real Pool 3D - Poolians  Real Pool 3D - Poolians   \n",
       "3              彼岸领域                        [Action, Adventure, Casual]                  弹炸人2222                  弹炸人2222   \n",
       "4               NaN                                                NaN            Log Challenge                      NaN   \n",
       "\n",
       "                                                 url release_date                                               tags  discount_price  \\\n",
       "0  http://store.steampowered.com/app/761140/Lost_...   2018-01-04      [Strategy, Action, Indie, Casual, Simulation]            4.49   \n",
       "1  http://store.steampowered.com/app/643980/Ironb...   2018-01-04  [Free to Play, Strategy, Indie, RPG, Card Game...             NaN   \n",
       "2  http://store.steampowered.com/app/670290/Real_...   2017-07-24  [Free to Play, Simulation, Sports, Casual, Ind...             NaN   \n",
       "3     http://store.steampowered.com/app/767400/2222/   2017-12-07                        [Action, Adventure, Casual]            0.83   \n",
       "4  http://store.steampowered.com/app/773570/Log_C...          NaN                    [Action, Indie, Casual, Sports]            1.79   \n",
       "\n",
       "                                         reviews_url                                              specs         price  early_access      id  \\\n",
       "0  http://steamcommunity.com/app/761140/reviews/?...                                    [Single-player]          4.99         False  761140   \n",
       "1  http://steamcommunity.com/app/643980/reviews/?...  [Single-player, Multi-player, Online Multi-Pla...  Free To Play         False  643980   \n",
       "2  http://steamcommunity.com/app/670290/reviews/?...  [Single-player, Multi-player, Online Multi-Pla...  Free to Play         False  670290   \n",
       "3  http://steamcommunity.com/app/767400/reviews/?...                                    [Single-player]          0.99         False  767400   \n",
       "4  http://steamcommunity.com/app/773570/reviews/?...  [Single-player, Full controller support, HTC V...          2.99         False  773570   \n",
       "\n",
       "          developer        sentiment metascore  \n",
       "0         Kotoshiro              NaN       NaN  \n",
       "1  Secret Level SRL  Mostly Positive       NaN  \n",
       "2      Poolians.com  Mostly Positive       NaN  \n",
       "3              彼岸领域              NaN       NaN  \n",
       "4               NaN              NaN       NaN  "
      ]
     },
     "execution_count": 170,
     "metadata": {},
     "output_type": "execute_result"
    }
   ],
   "source": [
    "data_games.head(5)"
   ]
  },
  {
   "cell_type": "code",
   "execution_count": 171,
   "metadata": {
    "id": "Bt5BLCw5WT0g"
   },
   "outputs": [
    {
     "data": {
      "text/html": [
       "<div>\n",
       "<style scoped>\n",
       "    .dataframe tbody tr th:only-of-type {\n",
       "        vertical-align: middle;\n",
       "    }\n",
       "\n",
       "    .dataframe tbody tr th {\n",
       "        vertical-align: top;\n",
       "    }\n",
       "\n",
       "    .dataframe thead th {\n",
       "        text-align: right;\n",
       "    }\n",
       "</style>\n",
       "<table border=\"1\" class=\"dataframe\">\n",
       "  <thead>\n",
       "    <tr style=\"text-align: right;\">\n",
       "      <th></th>\n",
       "      <th>publisher</th>\n",
       "      <th>genres</th>\n",
       "      <th>app_name</th>\n",
       "      <th>title</th>\n",
       "      <th>url</th>\n",
       "      <th>release_date</th>\n",
       "      <th>tags</th>\n",
       "      <th>discount_price</th>\n",
       "      <th>reviews_url</th>\n",
       "      <th>specs</th>\n",
       "      <th>price</th>\n",
       "      <th>early_access</th>\n",
       "      <th>id</th>\n",
       "      <th>developer</th>\n",
       "      <th>sentiment</th>\n",
       "      <th>metascore</th>\n",
       "    </tr>\n",
       "  </thead>\n",
       "  <tbody>\n",
       "    <tr>\n",
       "      <th>31617</th>\n",
       "      <td>Warner Bros. Interactive Entertainment, Feral ...</td>\n",
       "      <td>[Action, Adventure]</td>\n",
       "      <td>Batman: Arkham Asylum Game of the Year Edition</td>\n",
       "      <td>Batman: Arkham Asylum Game of the Year Edition</td>\n",
       "      <td>http://store.steampowered.com/app/35140/Batman...</td>\n",
       "      <td>2010-03-26</td>\n",
       "      <td>[Action, Batman, Stealth, Adventure, Third Per...</td>\n",
       "      <td>NaN</td>\n",
       "      <td>http://steamcommunity.com/app/35140/reviews/?b...</td>\n",
       "      <td>[Single-player, Steam Achievements, Steam Trad...</td>\n",
       "      <td>19.99</td>\n",
       "      <td>False</td>\n",
       "      <td>35140</td>\n",
       "      <td>Rocksteady Studios,Feral Interactive (Mac)</td>\n",
       "      <td>Overwhelmingly Positive</td>\n",
       "      <td>91</td>\n",
       "    </tr>\n",
       "  </tbody>\n",
       "</table>\n",
       "</div>"
      ],
      "text/plain": [
       "                                               publisher               genres                                        app_name  \\\n",
       "31617  Warner Bros. Interactive Entertainment, Feral ...  [Action, Adventure]  Batman: Arkham Asylum Game of the Year Edition   \n",
       "\n",
       "                                                title                                                url release_date  \\\n",
       "31617  Batman: Arkham Asylum Game of the Year Edition  http://store.steampowered.com/app/35140/Batman...   2010-03-26   \n",
       "\n",
       "                                                    tags  discount_price                                        reviews_url  \\\n",
       "31617  [Action, Batman, Stealth, Adventure, Third Per...             NaN  http://steamcommunity.com/app/35140/reviews/?b...   \n",
       "\n",
       "                                                   specs  price  early_access     id                                   developer  \\\n",
       "31617  [Single-player, Steam Achievements, Steam Trad...  19.99         False  35140  Rocksteady Studios,Feral Interactive (Mac)   \n",
       "\n",
       "                     sentiment metascore  \n",
       "31617  Overwhelmingly Positive        91  "
      ]
     },
     "execution_count": 171,
     "metadata": {},
     "output_type": "execute_result"
    }
   ],
   "source": [
    "data_games[data_games.id == '35140']"
   ]
  },
  {
   "cell_type": "markdown",
   "metadata": {},
   "source": [
    "**Elección de variables a usar**"
   ]
  },
  {
   "cell_type": "markdown",
   "metadata": {},
   "source": [
    "***Dataset Reviews***"
   ]
  },
  {
   "cell_type": "markdown",
   "metadata": {},
   "source": [
    "* En el Dataset Reviews se dejaron variables que aporten información sobre los usuarios y los juegos, pero que además sean interpretables por el modelo. De esta manera se eliminan las columnas *page_order, date, early_acces, page, compensation* ya que son informativas, la variable *found funny* está en un 85% vacía por lo cual también se retira del dataset. Por último, la variable *user_id* tiene 60% de valores faltantes, por esta razón se elimina y se crea un nuevo **id** para identificar los usuarios."
   ]
  },
  {
   "cell_type": "code",
   "execution_count": 172,
   "metadata": {},
   "outputs": [],
   "source": [
    "data_reviews.drop(['page_order','date','early_access','page','found_funny','compensation','user_id','products','text'],\n",
    "                  axis=1, inplace=True)"
   ]
  },
  {
   "cell_type": "markdown",
   "metadata": {},
   "source": [
    "* Los registros que no cuentan con horas de juego, no son útiles para desarrollar este sistema de recomendación, por lo tanto se procede a eliminarlos. Estos representan un 0.3% del dataset."
   ]
  },
  {
   "cell_type": "code",
   "execution_count": 173,
   "metadata": {},
   "outputs": [
    {
     "data": {
      "text/plain": [
       "username         0\n",
       "hours         2637\n",
       "product_id       0\n",
       "dtype: int64"
      ]
     },
     "execution_count": 173,
     "metadata": {},
     "output_type": "execute_result"
    }
   ],
   "source": [
    "data_reviews.isna().sum()"
   ]
  },
  {
   "cell_type": "code",
   "execution_count": 174,
   "metadata": {},
   "outputs": [],
   "source": [
    "data_reviews.dropna(subset=['hours'], inplace=True)"
   ]
  },
  {
   "cell_type": "code",
   "execution_count": 175,
   "metadata": {},
   "outputs": [
    {
     "data": {
      "text/plain": [
       "(776670, 3)"
      ]
     },
     "execution_count": 175,
     "metadata": {},
     "output_type": "execute_result"
    }
   ],
   "source": [
    "data_reviews = data_reviews.reset_index(drop = True)\n",
    "data_reviews.shape"
   ]
  },
  {
   "cell_type": "markdown",
   "metadata": {},
   "source": [
    "***Dataset Games***"
   ]
  },
  {
   "cell_type": "markdown",
   "metadata": {},
   "source": [
    "* Se eliminan registros que contengan usuario y juego duplicado, aún si las otras características son diferentes ya que puede deberse a que registraron el usuario jugando el mismo juego pero en momentos diferentes. Para esto tomaremos el registro que contenga la mayor cantidad de horas de juego."
   ]
  },
  {
   "cell_type": "code",
   "execution_count": 176,
   "metadata": {},
   "outputs": [],
   "source": [
    "max_horas = data_reviews.groupby(['username', 'product_id']).hours.transform(max)\n",
    "data_reviews = data_reviews[data_reviews.hours == max_horas]"
   ]
  },
  {
   "cell_type": "code",
   "execution_count": 177,
   "metadata": {},
   "outputs": [],
   "source": [
    "data_reviews.drop_duplicates(subset=['username','product_id'], inplace=True)"
   ]
  },
  {
   "cell_type": "markdown",
   "metadata": {},
   "source": [
    "* No se toman los registros que no tengan información en el Dataset Reviews."
   ]
  },
  {
   "cell_type": "code",
   "execution_count": 178,
   "metadata": {},
   "outputs": [],
   "source": [
    "games_reviews = list(np.unique(data_reviews.product_id))"
   ]
  },
  {
   "cell_type": "code",
   "execution_count": 179,
   "metadata": {},
   "outputs": [],
   "source": [
    "data_games = data_games[data_games.id.isin(games_reviews)]"
   ]
  },
  {
   "cell_type": "markdown",
   "metadata": {},
   "source": [
    "* Las variables *app_name, url, release_date, discount_price, reviews_url, early_access, metascore, tags y specs* no representan información relevante para la identificación o comparación de juegos, por lo que no se toman. Además la variable *publisher* tiene la misma información de la variable *developer*, por lo cual no se tiene en cuenta."
   ]
  },
  {
   "cell_type": "code",
   "execution_count": 180,
   "metadata": {},
   "outputs": [],
   "source": [
    "data_games.drop(['app_name','url','release_date','discount_price','reviews_url','early_access','metascore',\n",
    "                 'publisher','sentiment','tags','specs'], axis=1, inplace=True)"
   ]
  },
  {
   "cell_type": "code",
   "execution_count": 181,
   "metadata": {},
   "outputs": [
    {
     "data": {
      "text/plain": [
       "(12621, 5)"
      ]
     },
     "execution_count": 181,
     "metadata": {},
     "output_type": "execute_result"
    }
   ],
   "source": [
    "data_games = data_games.reset_index(drop = True)\n",
    "data_games.shape"
   ]
  },
  {
   "cell_type": "markdown",
   "metadata": {},
   "source": [
    "### Parte A - Exploración de Datos"
   ]
  },
  {
   "cell_type": "markdown",
   "metadata": {},
   "source": [
    "* **Dataset Reviews**"
   ]
  },
  {
   "cell_type": "markdown",
   "metadata": {},
   "source": [
    "***Variable 'product_id'***"
   ]
  },
  {
   "cell_type": "code",
   "execution_count": 182,
   "metadata": {},
   "outputs": [
    {
     "name": "stdout",
     "output_type": "stream",
     "text": [
      "Número de juegos existentes\n",
      "12620\n"
     ]
    }
   ],
   "source": [
    "print('Número de juegos existentes')\n",
    "print(len(np.unique(data_reviews.product_id)))"
   ]
  },
  {
   "cell_type": "code",
   "execution_count": 183,
   "metadata": {},
   "outputs": [
    {
     "name": "stdout",
     "output_type": "stream",
     "text": [
      "Número de jugadores por id de juego\n",
      "\n",
      "440       17409\n",
      "252490     9708\n",
      "49520      7007\n",
      "377160     6817\n",
      "271590     5745\n",
      "          ...  \n",
      "726520        1\n",
      "358220        1\n",
      "447240        1\n",
      "542210        1\n",
      "754540        1\n",
      "Name: product_id, Length: 12620, dtype: int64\n"
     ]
    }
   ],
   "source": [
    "games = data_reviews.product_id.value_counts()\n",
    "print('Número de jugadores por id de juego\\n')\n",
    "print(games)"
   ]
  },
  {
   "cell_type": "code",
   "execution_count": 184,
   "metadata": {},
   "outputs": [
    {
     "data": {
      "image/png": "[encoded data removed]",
      "text/plain": [
       "<Figure size 720x360 with 1 Axes>"
      ]
     },
     "metadata": {
      "needs_background": "light"
     },
     "output_type": "display_data"
    }
   ],
   "source": [
    "plt.figure(figsize = (10,5))\n",
    "max_user = 100\n",
    "plt.title(\"Distriución de usuarios por juego\")\n",
    "sns.distplot(games[games < max_user], bins = 60, color='#23E39E')\n",
    "plt.xlabel(\"Usuarios\")\n",
    "plt.ylabel(\"Juegos\")\n",
    "plt.xlim(0,max_user)\n",
    "plt.grid()\n",
    "plt.show()"
   ]
  },
  {
   "cell_type": "code",
   "execution_count": 185,
   "metadata": {},
   "outputs": [
    {
     "name": "stdout",
     "output_type": "stream",
     "text": [
      "Número de juegos con al menos 30 jugadores\n",
      "2748\n"
     ]
    }
   ],
   "source": [
    "print('Número de juegos con al menos 30 jugadores')\n",
    "print(len(games.index[games.values >= 30]))"
   ]
  },
  {
   "cell_type": "code",
   "execution_count": 186,
   "metadata": {},
   "outputs": [
    {
     "name": "stdout",
     "output_type": "stream",
     "text": [
      "Los juegos arriba mencionados hacen referencia a 704726 reviews\n"
     ]
    }
   ],
   "source": [
    "suma1 = np.sum(data_reviews.product_id.value_counts().values[games.values >= 30])\n",
    "print(f'Los juegos arriba mencionados hacen referencia a {suma1} reviews')"
   ]
  },
  {
   "cell_type": "markdown",
   "metadata": {},
   "source": [
    "**Análisis:** Del total de juegos, solo el 22% tienen más de 30 jugadores. Y de esos juegos se obtienen el 92% de los reviews disponibles."
   ]
  },
  {
   "cell_type": "markdown",
   "metadata": {},
   "source": [
    "***Variable 'username'***"
   ]
  },
  {
   "cell_type": "code",
   "execution_count": 187,
   "metadata": {},
   "outputs": [
    {
     "name": "stdout",
     "output_type": "stream",
     "text": [
      "Número de usuarios existentes\n",
      "539035\n"
     ]
    }
   ],
   "source": [
    "print('Número de usuarios existentes')\n",
    "print(len(np.unique(data_reviews.username)))"
   ]
  },
  {
   "cell_type": "code",
   "execution_count": 188,
   "metadata": {},
   "outputs": [
    {
     "name": "stdout",
     "output_type": "stream",
     "text": [
      "Número de juegos por usuario\n",
      "\n",
      "Alex                  161\n",
      "Chris                 137\n",
      "Nick                  131\n",
      "Matt                  119\n",
      "Saint Aaron           114\n",
      "                     ... \n",
      "The Lucky Survivor      1\n",
      "shadowreaf              1\n",
      "Haku Yamata             1\n",
      "Glike™                  1\n",
      "guicedreaming2002       1\n",
      "Name: username, Length: 539035, dtype: int64\n"
     ]
    }
   ],
   "source": [
    "game_users = data_reviews.username.value_counts()\n",
    "print('Número de juegos por usuario\\n')\n",
    "print(game_users)"
   ]
  },
  {
   "cell_type": "code",
   "execution_count": 189,
   "metadata": {},
   "outputs": [
    {
     "data": {
      "image/png": "[encoded data removed]",
      "text/plain": [
       "<Figure size 720x360 with 1 Axes>"
      ]
     },
     "metadata": {
      "needs_background": "light"
     },
     "output_type": "display_data"
    }
   ],
   "source": [
    "plt.figure(figsize = (10,5))\n",
    "max_user = 20\n",
    "plt.title(\"Distriución de juegos por usuario\")\n",
    "sns.distplot(game_users[game_users< max_user], bins = 60, color='#23E39E')\n",
    "plt.xlabel(\"Juegos\")\n",
    "plt.ylabel(\"Usuarios\")\n",
    "plt.xlim(0,max_user)\n",
    "plt.grid()\n",
    "plt.show()"
   ]
  },
  {
   "cell_type": "code",
   "execution_count": 190,
   "metadata": {},
   "outputs": [
    {
     "name": "stdout",
     "output_type": "stream",
     "text": [
      "Número de usuarios con al menos 5 juegos\n",
      "12783\n"
     ]
    }
   ],
   "source": [
    "print('Número de usuarios con al menos 5 juegos')\n",
    "print(len(game_users.index[game_users.values >= 5]))"
   ]
  },
  {
   "cell_type": "code",
   "execution_count": 191,
   "metadata": {},
   "outputs": [
    {
     "name": "stdout",
     "output_type": "stream",
     "text": [
      "Los usuarios arriba mencionados hacen referencia a 115571 reviews\n"
     ]
    }
   ],
   "source": [
    "suma2 = np.sum(data_reviews.username.value_counts().values[game_users.values >= 5])\n",
    "print(f'Los usuarios arriba mencionados hacen referencia a {suma2} reviews')"
   ]
  },
  {
   "cell_type": "markdown",
   "metadata": {},
   "source": [
    "**Análisis:** Solo el 2% de los usuarios juegan más de 5 juegos y estos usuarios aportan el 15% de los reviews."
   ]
  },
  {
   "cell_type": "markdown",
   "metadata": {},
   "source": [
    "***Variable 'hours'***"
   ]
  },
  {
   "cell_type": "code",
   "execution_count": 192,
   "metadata": {},
   "outputs": [
    {
     "name": "stdout",
     "output_type": "stream",
     "text": [
      "promedio : 110.43\n",
      "std :      387.64\n",
      "mínimo :   0.00\n",
      "Q1 :       3.90\n",
      "mediana :  15.10\n",
      "Q3 :       58.60\n",
      "máximo :   28164.00\n"
     ]
    }
   ],
   "source": [
    "print('promedio : %0.2f' % (data_reviews.hours.mean()))\n",
    "print('std :      %0.2f' % (data_reviews.hours.std()))\n",
    "print('mínimo :   %0.2f' % (data_reviews.hours.min()))\n",
    "print('Q1 :       %0.2f' % (data_reviews.hours.quantile(0.25)))\n",
    "print('mediana :  %0.2f' % (data_reviews.hours.quantile(0.5)))\n",
    "print('Q3 :       %0.2f' % (data_reviews.hours.quantile(0.75)))\n",
    "print('máximo :   %0.2f' % (data_reviews.hours.max()))"
   ]
  },
  {
   "cell_type": "code",
   "execution_count": 193,
   "metadata": {},
   "outputs": [
    {
     "name": "stdout",
     "output_type": "stream",
     "text": [
      "número de entradas con al menos 5 horas de juego\n",
      "547117\n"
     ]
    }
   ],
   "source": [
    "print('número de entradas con al menos 5 horas de juego')\n",
    "print(len(data_reviews[data_reviews.hours >= 5]))"
   ]
  },
  {
   "cell_type": "code",
   "execution_count": 194,
   "metadata": {},
   "outputs": [
    {
     "data": {
      "image/png": "[encoded data removed]",
      "text/plain": [
       "<Figure size 504x360 with 1 Axes>"
      ]
     },
     "metadata": {
      "needs_background": "light"
     },
     "output_type": "display_data"
    }
   ],
   "source": [
    "plt.figure(figsize = (7,5))\n",
    "max_hour = 300\n",
    "sns.boxplot(x = data_reviews.hours[data_reviews.hours<max_hour/3], color='#23E39E')\n",
    "plt.title(\"Distribución de horas jugadas\")\n",
    "plt.xlabel(\"Horas jugadas\")\n",
    "plt.grid()\n",
    "plt.show()"
   ]
  },
  {
   "cell_type": "markdown",
   "metadata": {},
   "source": [
    "**Análisis**: Se evidencia que la mitad de los usuarios tienen 15 horas de juego, y que del total de usuarios el 71% cuenta con más de 5 horas de juego."
   ]
  },
  {
   "cell_type": "markdown",
   "metadata": {},
   "source": [
    "* **Dataset Games**"
   ]
  },
  {
   "cell_type": "markdown",
   "metadata": {},
   "source": [
    "***Variable 'developer'***"
   ]
  },
  {
   "cell_type": "code",
   "execution_count": 195,
   "metadata": {},
   "outputs": [
    {
     "name": "stdout",
     "output_type": "stream",
     "text": [
      "Número de desarrolladores\n",
      "8129\n"
     ]
    }
   ],
   "source": [
    "print('Número de desarrolladores')\n",
    "print(len(list(data_games.developer.value_counts().index)))"
   ]
  },
  {
   "cell_type": "code",
   "execution_count": 196,
   "metadata": {},
   "outputs": [
    {
     "name": "stdout",
     "output_type": "stream",
     "text": [
      "Número de juegos por desarrollador\n",
      "\n",
      "Choice of Games            48\n",
      "Humongous Entertainment    34\n",
      "Telltale Games             32\n",
      "EnsenaSoft                 29\n",
      "MumboJumbo                 28\n",
      "                           ..\n",
      "Achebit                     1\n",
      "The Game Bakery             1\n",
      "alexnown,Kunio              1\n",
      "Westwood Studios            1\n",
      "Cargo Cult Gaming LLC       1\n",
      "Name: developer, Length: 8129, dtype: int64\n"
     ]
    }
   ],
   "source": [
    "developers = data_games.developer.value_counts()\n",
    "print('Número de juegos por desarrollador\\n')\n",
    "print(developers)"
   ]
  },
  {
   "cell_type": "code",
   "execution_count": 197,
   "metadata": {},
   "outputs": [
    {
     "data": {
      "image/png": "[encoded data removed]",
      "text/plain": [
       "<Figure size 720x360 with 1 Axes>"
      ]
     },
     "metadata": {
      "needs_background": "light"
     },
     "output_type": "display_data"
    }
   ],
   "source": [
    "plt.figure(figsize = (10,5))\n",
    "max_user = 30\n",
    "plt.title(\"Distribución de juegos por desarrollador\")\n",
    "sns.distplot(developers[developers < max_user],color='#23E39E')\n",
    "plt.xlabel(\"Juegos\")\n",
    "plt.ylabel(\"Desarrolladores\")\n",
    "plt.xlim(0,max_user)\n",
    "plt.grid()\n",
    "plt.show()"
   ]
  },
  {
   "cell_type": "code",
   "execution_count": 198,
   "metadata": {},
   "outputs": [
    {
     "name": "stdout",
     "output_type": "stream",
     "text": [
      "Número de desarrolladores con más de 1 juego\n",
      "1755\n"
     ]
    }
   ],
   "source": [
    "print('Número de desarrolladores con más de 1 juego')\n",
    "print(len(developers.index[developers.values > 1]))"
   ]
  },
  {
   "cell_type": "markdown",
   "metadata": {},
   "source": [
    "**Análisis:** La mayoría de los desarrolladores solo tienen un juego en la plataforma, solo el 22% tienen más de uno."
   ]
  },
  {
   "cell_type": "markdown",
   "metadata": {},
   "source": [
    "***Variable 'genre'***"
   ]
  },
  {
   "cell_type": "code",
   "execution_count": 199,
   "metadata": {},
   "outputs": [],
   "source": [
    "generos = []\n",
    "for lista in data_games.genres:\n",
    "    if type(lista) == list:\n",
    "        generos.append(lista)"
   ]
  },
  {
   "cell_type": "code",
   "execution_count": 200,
   "metadata": {},
   "outputs": [],
   "source": [
    "generos = [item \n",
    "           for sublist in generos\n",
    "           for item in sublist]"
   ]
  },
  {
   "cell_type": "code",
   "execution_count": 201,
   "metadata": {},
   "outputs": [],
   "source": [
    "index_generos = list(np.unique(generos))\n",
    "values_generos = [generos.count(item) for item in index_generos]\n",
    "\n",
    "genres_dist = pd.Series(values_generos, index = index_generos) "
   ]
  },
  {
   "cell_type": "code",
   "execution_count": 202,
   "metadata": {},
   "outputs": [
    {
     "name": "stdout",
     "output_type": "stream",
     "text": [
      "Distribución de los generos por número de juegos:\n",
      "\n",
      "Indie                        8175\n",
      "Action                       5495\n",
      "Adventure                    4407\n",
      "Casual                       3677\n",
      "Strategy                     2743\n",
      "RPG                          2200\n",
      "Simulation                   2038\n",
      "Early Access                 1056\n",
      "Free to Play                  835\n",
      "Sports                        488\n",
      "Racing                        467\n",
      "Massively Multiplayer         405\n",
      "Utilities                     116\n",
      "Design &amp; Illustration      87\n",
      "Animation &amp; Modeling       66\n",
      "Video Production               41\n",
      "Education                      35\n",
      "Software Training              30\n",
      "Audio Production               30\n",
      "Web Publishing                 26\n",
      "Photo Editing                  21\n",
      "dtype: int64\n"
     ]
    }
   ],
   "source": [
    "print('Distribución de los generos por número de juegos:\\n')\n",
    "print(genres_dist.sort_values(ascending=False))"
   ]
  },
  {
   "cell_type": "markdown",
   "metadata": {},
   "source": [
    "**Análisis:** El 80% de los juegos se ubican en los primeros 6 géneros, donde Indie tiene el 25% y Action el 17%."
   ]
  },
  {
   "cell_type": "markdown",
   "metadata": {},
   "source": [
    "***Variable 'price'***"
   ]
  },
  {
   "cell_type": "code",
   "execution_count": 203,
   "metadata": {},
   "outputs": [],
   "source": [
    "price = []\n",
    "for element in data_games.price:\n",
    "    if type(element) == str:\n",
    "        element = element.lower()\n",
    "    price.append(element)\n",
    "\n",
    "data_games['price'] = price"
   ]
  },
  {
   "cell_type": "code",
   "execution_count": 204,
   "metadata": {},
   "outputs": [
    {
     "name": "stdout",
     "output_type": "stream",
     "text": [
      "Número de juegos free to play: \n",
      "700\n"
     ]
    }
   ],
   "source": [
    "print('Número de juegos free to play: ')\n",
    "print(len(data_games[data_games.price == 'free to play']))"
   ]
  },
  {
   "cell_type": "code",
   "execution_count": 205,
   "metadata": {},
   "outputs": [
    {
     "name": "stdout",
     "output_type": "stream",
     "text": [
      "Número de juegos sin información del precio: \n",
      "146\n"
     ]
    }
   ],
   "source": [
    "print('Número de juegos sin información del precio: ')\n",
    "print(data_games.price.isna().sum())"
   ]
  },
  {
   "cell_type": "code",
   "execution_count": 206,
   "metadata": {},
   "outputs": [],
   "source": [
    "data_games_1 = data_games[pd.to_numeric(data_games.price, errors='coerce').notnull()]"
   ]
  },
  {
   "cell_type": "code",
   "execution_count": 207,
   "metadata": {},
   "outputs": [
    {
     "name": "stdout",
     "output_type": "stream",
     "text": [
      "promedio : 10.40\n",
      "std :      14.15\n",
      "mínimo :   0.49\n",
      "Q1 :       3.99\n",
      "mediana :  7.99\n",
      "Q3 :       12.99\n",
      "máximo :   771.71\n"
     ]
    }
   ],
   "source": [
    "print('promedio : %0.2f' % (data_games_1.price.mean()))\n",
    "print('std :      %0.2f' % (data_games_1.price.std()))\n",
    "print('mínimo :   %0.2f' % (data_games_1.price.min()))\n",
    "print('Q1 :       %0.2f' % (data_games_1.price.quantile(0.25)))\n",
    "print('mediana :  %0.2f' % (data_games_1.price.quantile(0.5)))\n",
    "print('Q3 :       %0.2f' % (data_games_1.price.quantile(0.75)))\n",
    "print('máximo :   %0.2f' % (data_games_1.price.max()))"
   ]
  },
  {
   "cell_type": "code",
   "execution_count": 208,
   "metadata": {},
   "outputs": [
    {
     "data": {
      "image/png": "[encoded data removed]",
      "text/plain": [
       "<Figure size 504x360 with 1 Axes>"
      ]
     },
     "metadata": {
      "needs_background": "light"
     },
     "output_type": "display_data"
    }
   ],
   "source": [
    "plt.figure(figsize = (7,5))\n",
    "max_price = 100\n",
    "sns.boxplot(x = data_games_1.price[data_games_1.price<max_price/4], color='#23E39E')\n",
    "plt.title(\"Distribución del precio de los juegos\")\n",
    "plt.xlabel(\"Precio\")\n",
    "plt.grid()\n",
    "plt.show()"
   ]
  },
  {
   "cell_type": "code",
   "execution_count": 209,
   "metadata": {},
   "outputs": [
    {
     "name": "stdout",
     "output_type": "stream",
     "text": [
      "El juego más costoso es:\n",
      "\n",
      "['X-Plane 10 Global - 64 Bit']\n"
     ]
    }
   ],
   "source": [
    "print('El juego más costoso es:\\n')\n",
    "print(list(data_games_1.sort_values(by=['price','title'], ascending=False).title.values)[:1])"
   ]
  },
  {
   "cell_type": "code",
   "execution_count": 210,
   "metadata": {},
   "outputs": [
    {
     "name": "stdout",
     "output_type": "stream",
     "text": [
      "El juego más económico es:\n",
      "\n",
      "['Fate Tectonics']\n"
     ]
    }
   ],
   "source": [
    "print('El juego más económico es:\\n')\n",
    "print(list(data_games_1.sort_values(by=['price','title'], ascending=True).title.values)[:1])"
   ]
  },
  {
   "cell_type": "markdown",
   "metadata": {},
   "source": [
    "**Análisis:** La mitad de los juegos tienen un precio al rededor de los 8 USD, el juego más costoso vale 771 USD."
   ]
  },
  {
   "cell_type": "markdown",
   "metadata": {},
   "source": [
    "### Parte B - Modelo de Machine Learning"
   ]
  },
  {
   "cell_type": "markdown",
   "metadata": {},
   "source": [
    "* **Preprocesamiento de los datos** "
   ]
  },
  {
   "cell_type": "markdown",
   "metadata": {},
   "source": [
    "***Generación de una calificación***"
   ]
  },
  {
   "cell_type": "markdown",
   "metadata": {},
   "source": [
    "El Dataset Reviews no cuenta con una calificación explícita de los juegos y para crear un sistema de recomendación deben existir calificaciones. Se asume que si un jugador juega más de 5 horas un juego es porque le gusta, bajo este supuesto se crea una calificación binaria en la variable *'ratings'* donde si es inferior a 5 horas obtiene 'dislike' y si es igual o mayor a 5 horas 'like'."
   ]
  },
  {
   "cell_type": "code",
   "execution_count": 211,
   "metadata": {},
   "outputs": [],
   "source": [
    "def ratings(time):\n",
    "    if time >= 5:\n",
    "        return 1\n",
    "    else:\n",
    "        return 0"
   ]
  },
  {
   "cell_type": "code",
   "execution_count": 212,
   "metadata": {},
   "outputs": [],
   "source": [
    "ratings = data_reviews['hours'].apply(ratings)\n",
    "\n",
    "data_reviews['ratings'] = ratings"
   ]
  },
  {
   "cell_type": "code",
   "execution_count": 213,
   "metadata": {},
   "outputs": [
    {
     "data": {
      "text/html": [
       "<div>\n",
       "<style scoped>\n",
       "    .dataframe tbody tr th:only-of-type {\n",
       "        vertical-align: middle;\n",
       "    }\n",
       "\n",
       "    .dataframe tbody tr th {\n",
       "        vertical-align: top;\n",
       "    }\n",
       "\n",
       "    .dataframe thead th {\n",
       "        text-align: right;\n",
       "    }\n",
       "</style>\n",
       "<table border=\"1\" class=\"dataframe\">\n",
       "  <thead>\n",
       "    <tr style=\"text-align: right;\">\n",
       "      <th></th>\n",
       "      <th>username</th>\n",
       "      <th>hours</th>\n",
       "      <th>product_id</th>\n",
       "      <th>ratings</th>\n",
       "    </tr>\n",
       "  </thead>\n",
       "  <tbody>\n",
       "    <tr>\n",
       "      <th>0</th>\n",
       "      <td>Chaos Syren</td>\n",
       "      <td>0.1</td>\n",
       "      <td>725280</td>\n",
       "      <td>0</td>\n",
       "    </tr>\n",
       "    <tr>\n",
       "      <th>1</th>\n",
       "      <td>Ariman1</td>\n",
       "      <td>13.2</td>\n",
       "      <td>328100</td>\n",
       "      <td>1</td>\n",
       "    </tr>\n",
       "    <tr>\n",
       "      <th>2</th>\n",
       "      <td>freakfantom</td>\n",
       "      <td>0.1</td>\n",
       "      <td>725280</td>\n",
       "      <td>0</td>\n",
       "    </tr>\n",
       "    <tr>\n",
       "      <th>3</th>\n",
       "      <td>The_Cpt_FROGGY</td>\n",
       "      <td>7.8</td>\n",
       "      <td>631920</td>\n",
       "      <td>1</td>\n",
       "    </tr>\n",
       "    <tr>\n",
       "      <th>4</th>\n",
       "      <td>the_maker988</td>\n",
       "      <td>8.2</td>\n",
       "      <td>35140</td>\n",
       "      <td>1</td>\n",
       "    </tr>\n",
       "  </tbody>\n",
       "</table>\n",
       "</div>"
      ],
      "text/plain": [
       "         username  hours product_id  ratings\n",
       "0     Chaos Syren    0.1     725280        0\n",
       "1         Ariman1   13.2     328100        1\n",
       "2     freakfantom    0.1     725280        0\n",
       "3  The_Cpt_FROGGY    7.8     631920        1\n",
       "4    the_maker988    8.2      35140        1"
      ]
     },
     "execution_count": 213,
     "metadata": {},
     "output_type": "execute_result"
    }
   ],
   "source": [
    "data_reviews.head(5)"
   ]
  },
  {
   "cell_type": "code",
   "execution_count": 214,
   "metadata": {},
   "outputs": [],
   "source": [
    "data_reviews = data_reviews[data_reviews.ratings == 1]"
   ]
  },
  {
   "cell_type": "code",
   "execution_count": 215,
   "metadata": {},
   "outputs": [
    {
     "data": {
      "text/plain": [
       "(547117, 4)"
      ]
     },
     "execution_count": 215,
     "metadata": {},
     "output_type": "execute_result"
    }
   ],
   "source": [
    "data_reviews = data_reviews.reset_index(drop = True)\n",
    "data_reviews.shape"
   ]
  },
  {
   "cell_type": "markdown",
   "metadata": {},
   "source": [
    "***Eliminación de juegos poco populares***"
   ]
  },
  {
   "cell_type": "markdown",
   "metadata": {},
   "source": [
    "Se eliminan los juegos que tienen menos de 25 jugadores, pues no son lo suficientemente populares para desarrollar un sistema de recomendación."
   ]
  },
  {
   "cell_type": "code",
   "execution_count": 216,
   "metadata": {},
   "outputs": [],
   "source": [
    "lista = list(data_reviews.product_id.value_counts().index[data_reviews.product_id.value_counts().values >= 25])"
   ]
  },
  {
   "cell_type": "code",
   "execution_count": 217,
   "metadata": {},
   "outputs": [],
   "source": [
    "data_reviews = data_reviews[data_reviews.product_id.isin(lista)]"
   ]
  },
  {
   "cell_type": "code",
   "execution_count": 218,
   "metadata": {},
   "outputs": [
    {
     "data": {
      "text/plain": [
       "(512772, 4)"
      ]
     },
     "execution_count": 218,
     "metadata": {},
     "output_type": "execute_result"
    }
   ],
   "source": [
    "data_reviews = data_reviews.reset_index(drop = True)\n",
    "data_reviews.shape"
   ]
  },
  {
   "cell_type": "markdown",
   "metadata": {},
   "source": [
    "***Eliminación de jugadores con pocos juegos***"
   ]
  },
  {
   "cell_type": "markdown",
   "metadata": {},
   "source": [
    "Se eliminan los usuarios con menos de 5 juegos, ya que tienen pocos juegos y puede afectar la eficiencia del modelo para recomendar."
   ]
  },
  {
   "cell_type": "code",
   "execution_count": 219,
   "metadata": {},
   "outputs": [],
   "source": [
    "lista_users = list(data_reviews.username.value_counts().index[data_reviews.username.value_counts().values >= 5])"
   ]
  },
  {
   "cell_type": "code",
   "execution_count": 220,
   "metadata": {},
   "outputs": [],
   "source": [
    "data_reviews = data_reviews[data_reviews.username.isin(lista_users)]"
   ]
  },
  {
   "cell_type": "code",
   "execution_count": 221,
   "metadata": {},
   "outputs": [
    {
     "data": {
      "text/plain": [
       "(45853, 4)"
      ]
     },
     "execution_count": 221,
     "metadata": {},
     "output_type": "execute_result"
    }
   ],
   "source": [
    "data_reviews = data_reviews.reset_index(drop = True)\n",
    "data_reviews.shape"
   ]
  },
  {
   "cell_type": "markdown",
   "metadata": {},
   "source": [
    "***Generación de un número de identificación de usuarios***"
   ]
  },
  {
   "cell_type": "code",
   "execution_count": 222,
   "metadata": {},
   "outputs": [],
   "source": [
    "user_names = list(np.unique(data_reviews.username))"
   ]
  },
  {
   "cell_type": "code",
   "execution_count": 223,
   "metadata": {},
   "outputs": [],
   "source": [
    "user_encoded = np.arange(0,len(user_names))"
   ]
  },
  {
   "cell_type": "code",
   "execution_count": 224,
   "metadata": {},
   "outputs": [],
   "source": [
    "data_reviews['user_id'] = data_reviews.username.map(dict(zip(user_names,user_encoded)))"
   ]
  },
  {
   "cell_type": "markdown",
   "metadata": {},
   "source": [
    "***Generación de un número de identificación de juegos***"
   ]
  },
  {
   "cell_type": "code",
   "execution_count": 225,
   "metadata": {},
   "outputs": [],
   "source": [
    "games = list(np.unique(data_reviews.product_id))"
   ]
  },
  {
   "cell_type": "code",
   "execution_count": 226,
   "metadata": {},
   "outputs": [],
   "source": [
    "game_encoded = np.arange(0,len(games))"
   ]
  },
  {
   "cell_type": "code",
   "execution_count": 227,
   "metadata": {},
   "outputs": [],
   "source": [
    "data_reviews['game_id'] = data_reviews.product_id.map(dict(zip(games,game_encoded)))"
   ]
  },
  {
   "cell_type": "code",
   "execution_count": 228,
   "metadata": {},
   "outputs": [],
   "source": [
    "data_games = data_games[data_games.id.isin(games)]\n",
    "data_games = data_games.reset_index(drop = True)"
   ]
  },
  {
   "cell_type": "code",
   "execution_count": 229,
   "metadata": {},
   "outputs": [],
   "source": [
    "data_games['game_id'] = data_games.id.map(dict(zip(games,game_encoded)))"
   ]
  },
  {
   "cell_type": "code",
   "execution_count": 230,
   "metadata": {},
   "outputs": [
    {
     "data": {
      "text/html": [
       "<div>\n",
       "<style scoped>\n",
       "    .dataframe tbody tr th:only-of-type {\n",
       "        vertical-align: middle;\n",
       "    }\n",
       "\n",
       "    .dataframe tbody tr th {\n",
       "        vertical-align: top;\n",
       "    }\n",
       "\n",
       "    .dataframe thead th {\n",
       "        text-align: right;\n",
       "    }\n",
       "</style>\n",
       "<table border=\"1\" class=\"dataframe\">\n",
       "  <thead>\n",
       "    <tr style=\"text-align: right;\">\n",
       "      <th></th>\n",
       "      <th>username</th>\n",
       "      <th>hours</th>\n",
       "      <th>product_id</th>\n",
       "      <th>ratings</th>\n",
       "      <th>user_id</th>\n",
       "      <th>game_id</th>\n",
       "    </tr>\n",
       "  </thead>\n",
       "  <tbody>\n",
       "    <tr>\n",
       "      <th>0</th>\n",
       "      <td>Cross</td>\n",
       "      <td>9.3</td>\n",
       "      <td>35140</td>\n",
       "      <td>1</td>\n",
       "      <td>917</td>\n",
       "      <td>1205</td>\n",
       "    </tr>\n",
       "    <tr>\n",
       "      <th>1</th>\n",
       "      <td>SuchDoge</td>\n",
       "      <td>14.3</td>\n",
       "      <td>35140</td>\n",
       "      <td>1</td>\n",
       "      <td>4027</td>\n",
       "      <td>1205</td>\n",
       "    </tr>\n",
       "    <tr>\n",
       "      <th>2</th>\n",
       "      <td>Raptor</td>\n",
       "      <td>125.0</td>\n",
       "      <td>350280</td>\n",
       "      <td>1</td>\n",
       "      <td>3375</td>\n",
       "      <td>1201</td>\n",
       "    </tr>\n",
       "    <tr>\n",
       "      <th>3</th>\n",
       "      <td>Emperor Palpatine</td>\n",
       "      <td>40.7</td>\n",
       "      <td>271590</td>\n",
       "      <td>1</td>\n",
       "      <td>1325</td>\n",
       "      <td>779</td>\n",
       "    </tr>\n",
       "    <tr>\n",
       "      <th>4</th>\n",
       "      <td>ThePCGamer</td>\n",
       "      <td>5.3</td>\n",
       "      <td>275180</td>\n",
       "      <td>1</td>\n",
       "      <td>4221</td>\n",
       "      <td>800</td>\n",
       "    </tr>\n",
       "  </tbody>\n",
       "</table>\n",
       "</div>"
      ],
      "text/plain": [
       "            username  hours product_id  ratings  user_id  game_id\n",
       "0              Cross    9.3      35140        1      917     1205\n",
       "1           SuchDoge   14.3      35140        1     4027     1205\n",
       "2             Raptor  125.0     350280        1     3375     1201\n",
       "3  Emperor Palpatine   40.7     271590        1     1325      779\n",
       "4         ThePCGamer    5.3     275180        1     4221      800"
      ]
     },
     "execution_count": 230,
     "metadata": {},
     "output_type": "execute_result"
    }
   ],
   "source": [
    "data_reviews.head(5)"
   ]
  },
  {
   "cell_type": "markdown",
   "metadata": {},
   "source": [
    "* **Elección y desarrollo del modelo**"
   ]
  },
  {
   "cell_type": "markdown",
   "metadata": {},
   "source": [
    "***Elección del modelo***"
   ]
  },
  {
   "cell_type": "markdown",
   "metadata": {},
   "source": [
    "La estructura de los datos corresponde un registro de calificaciones dadas por varios jugadores a unos juegos específicos. En este sentido, el modelo de recomendación debe basarse en estas \"experiencias\" para encontrar similitud entre los jugadores agrupando usuarios por gustos similares, por lo tanto, el modelo que responde a esta necesidad es el **\"Filtro Colaborativo\"**.\n",
    "Para esto se usará el modelo de mínimos cuadrado alternantes de la librería implicit."
   ]
  },
  {
   "cell_type": "markdown",
   "metadata": {},
   "source": [
    "Importando librerías y generando el dataset para trabajar:"
   ]
  },
  {
   "cell_type": "code",
   "execution_count": 231,
   "metadata": {},
   "outputs": [],
   "source": [
    "import os\n",
    "from scipy import sparse\n",
    "from implicit.als import AlternatingLeastSquares\n",
    "from implicit.evaluation import train_test_split, ranking_metrics_at_k\n",
    "os.environ['MKL_NUM_THREADS'] = '1'"
   ]
  },
  {
   "cell_type": "code",
   "execution_count": 232,
   "metadata": {},
   "outputs": [],
   "source": [
    "data = data_reviews[['game_id','user_id','ratings']]"
   ]
  },
  {
   "cell_type": "markdown",
   "metadata": {},
   "source": [
    "***Elección de la métrica de evaluación***"
   ]
  },
  {
   "cell_type": "markdown",
   "metadata": {},
   "source": [
    "Para evaluar el desempeño del modelo se usará la **precisión media promedio a  𝐾  items  (𝑀𝐴𝑃@𝐾)**. Es una métrica muy apropiada para datasets binarios como este, pues permite introducir relevancia a las recomendaciones, dándole más peso a los errores que ocurren más arriba en la lista de recomendaciones."
   ]
  },
  {
   "cell_type": "markdown",
   "metadata": {},
   "source": [
    "***Modelo de mínimos cuadrados alternantes***"
   ]
  },
  {
   "cell_type": "markdown",
   "metadata": {},
   "source": [
    "A partir del dataset Reviews generamos una matriz de utilidad, que tomará los valores de calificación de un usuario por un juego (1 o 0) y los albergará en una matriz con dimensiones (# juegos, # usuarios). Esta matriz está en formato CSR (compressed sparse row matrix). A partir de ella se genera otra matriz con dimensiones (# usuarios, # juegos) que es la transpuesta de la primera matriz.\n",
    "\n",
    "La primera matriz será usada para entrenar el modelo y la segunda matriz será usada para generar las recomendaciones a partir del modelo entrenado."
   ]
  },
  {
   "cell_type": "code",
   "execution_count": 233,
   "metadata": {},
   "outputs": [],
   "source": [
    "matrix_item_user = sparse.csr_matrix((data['ratings'].astype(int), (data['game_id'], data['user_id'])))"
   ]
  },
  {
   "cell_type": "code",
   "execution_count": 234,
   "metadata": {},
   "outputs": [],
   "source": [
    "matrix_user_item = matrix_item_user.transpose()"
   ]
  },
  {
   "cell_type": "code",
   "execution_count": 235,
   "metadata": {},
   "outputs": [
    {
     "data": {
      "text/plain": [
       "(1974, 5404)"
      ]
     },
     "execution_count": 235,
     "metadata": {},
     "output_type": "execute_result"
    }
   ],
   "source": [
    "matrix_item_user.shape"
   ]
  },
  {
   "cell_type": "markdown",
   "metadata": {},
   "source": [
    "* *Se ajusta el parámetro inicial*"
   ]
  },
  {
   "cell_type": "code",
   "execution_count": 347,
   "metadata": {},
   "outputs": [],
   "source": [
    "alpha = 20"
   ]
  },
  {
   "cell_type": "markdown",
   "metadata": {},
   "source": [
    "* *Se realiza train/test split sobre la matriz user*"
   ]
  },
  {
   "cell_type": "code",
   "execution_count": 348,
   "metadata": {},
   "outputs": [],
   "source": [
    "train, test = train_test_split(matrix_item_user * alpha, train_percentage=0.8)"
   ]
  },
  {
   "cell_type": "code",
   "execution_count": 349,
   "metadata": {},
   "outputs": [],
   "source": [
    "model = AlternatingLeastSquares(factors=20, regularization=0.1, iterations=15, random_state=42)"
   ]
  },
  {
   "cell_type": "code",
   "execution_count": 350,
   "metadata": {},
   "outputs": [
    {
     "data": {
      "application/vnd.jupyter.widget-view+json": {
       "model_id": "871fbe37dffd48d18ce40d5442b8e08c",
       "version_major": 2,
       "version_minor": 0
      },
      "text/plain": [
       "  0%|          | 0/15 [00:00<?, ?it/s]"
      ]
     },
     "metadata": {},
     "output_type": "display_data"
    }
   ],
   "source": [
    "model.fit(train, show_progress=True)"
   ]
  },
  {
   "cell_type": "markdown",
   "metadata": {},
   "source": [
    "* *Se realiza validación cruzada para evaluar el modelo mediante la métrica elegida*"
   ]
  },
  {
   "cell_type": "code",
   "execution_count": 351,
   "metadata": {},
   "outputs": [
    {
     "data": {
      "application/vnd.jupyter.widget-view+json": {
       "model_id": "8cc8fc17a96a40b4b32af02e12e972ec",
       "version_major": 2,
       "version_minor": 0
      },
      "text/plain": [
       "  0%|          | 0/5404 [00:00<?, ?it/s]"
      ]
     },
     "metadata": {},
     "output_type": "display_data"
    },
    {
     "name": "stdout",
     "output_type": "stream",
     "text": [
      "El modelo tiene un valor de MAP@k igual a : 0.021\n"
     ]
    }
   ],
   "source": [
    "p_K = ranking_metrics_at_k(model, train.T, test.T,K=20, num_threads=0,show_progress=True)\n",
    "print('El modelo tiene un valor de MAP@k igual a : %0.3f' % (p_K['map']))"
   ]
  },
  {
   "cell_type": "markdown",
   "metadata": {},
   "source": [
    "***Modelo Benchmark***"
   ]
  },
  {
   "cell_type": "markdown",
   "metadata": {},
   "source": [
    "Se crea un modelo benchmark tomando un top N de los juegos más populares, para eso se desarrolla una clase que permita usar el método para el cálculo de la métrica que contiene la librería implicit."
   ]
  },
  {
   "cell_type": "code",
   "execution_count": 352,
   "metadata": {},
   "outputs": [],
   "source": [
    "rango = data.game_id.value_counts().index\n",
    "puntaje = np.linspace(1.9,-20,len(rango))\n",
    "recomendacion= list(tuple(zip(rango, puntaje)))"
   ]
  },
  {
   "cell_type": "code",
   "execution_count": 353,
   "metadata": {},
   "outputs": [],
   "source": [
    "class Benchmark_p:\n",
    "    \n",
    "    def __init__(self, recomendacion):\n",
    "        self.recomendacion = recomendacion\n",
    "        \n",
    "    def recommend(self, userid, user_item, N):\n",
    "        recomendacion =  self.recomendacion[:N]\n",
    "        return  recomendacion"
   ]
  },
  {
   "cell_type": "code",
   "execution_count": 354,
   "metadata": {},
   "outputs": [],
   "source": [
    "Benchmark = Benchmark_p(recomendacion)"
   ]
  },
  {
   "cell_type": "code",
   "execution_count": 355,
   "metadata": {},
   "outputs": [
    {
     "data": {
      "application/vnd.jupyter.widget-view+json": {
       "model_id": "e19a416098a840a0acd7051c37eedada",
       "version_major": 2,
       "version_minor": 0
      },
      "text/plain": [
       "  0%|          | 0/5404 [00:00<?, ?it/s]"
      ]
     },
     "metadata": {},
     "output_type": "display_data"
    },
    {
     "name": "stdout",
     "output_type": "stream",
     "text": [
      "el modelo benchmark tiene un valor de MAP@k igual a : 0.046\n"
     ]
    }
   ],
   "source": [
    "p_K_benchmark_1 = ranking_metrics_at_k(Benchmark, train.T.tocsr(), test.T.tocsr(), K=20, show_progress=True)\n",
    "print('el modelo benchmark tiene un valor de MAP@k igual a : %0.3f' % (p_K_benchmark['map']))"
   ]
  },
  {
   "cell_type": "markdown",
   "metadata": {},
   "source": [
    "***Optimización de hiperparámetros***"
   ]
  },
  {
   "cell_type": "markdown",
   "metadata": {},
   "source": [
    "Los principales hiperparámetros de este modelo son el parámetro  𝛼 , el número de factores lantentes, la tasa de regularización  𝜆  y el número de iteraciones. Se prueba la variación de cada hiperparámetro."
   ]
  },
  {
   "cell_type": "markdown",
   "metadata": {},
   "source": [
    "* *Alpha*"
   ]
  },
  {
   "cell_type": "code",
   "execution_count": 277,
   "metadata": {},
   "outputs": [],
   "source": [
    "alphas = [x for x in range(10,61,2)]\n",
    "metrics_alphas = []\n",
    "\n",
    "for alpha in alphas:\n",
    "    train, test = train_test_split(matrix_item_user * alpha, train_percentage=0.8)\n",
    "    model = AlternatingLeastSquares(factors=20, regularization=0.1, iterations=15, random_state=42)\n",
    "    model.fit(train, show_progress=False)\n",
    "    r = ranking_metrics_at_k(model, train.T, test.T, K=20, num_threads=0, show_progress=False)\n",
    "    metrics_alphas.append(r)"
   ]
  },
  {
   "cell_type": "markdown",
   "metadata": {},
   "source": [
    "* *Factor latente*"
   ]
  },
  {
   "cell_type": "code",
   "execution_count": 278,
   "metadata": {},
   "outputs": [],
   "source": [
    "factors = [x for x in range(10,61,2)]\n",
    "metrics_factors = []\n",
    "\n",
    "for factor in factors:\n",
    "    alpha = 40\n",
    "    train, test = train_test_split(matrix_item_user * alpha, train_percentage=0.8)\n",
    "    model = AlternatingLeastSquares(factors=factor, regularization=0.1, iterations=15, random_state=42)\n",
    "    model.fit(train, show_progress=False)\n",
    "    r = ranking_metrics_at_k(model, train.T, test.T, K=20, num_threads=0, show_progress=False)\n",
    "    metrics_factors.append(r)"
   ]
  },
  {
   "cell_type": "markdown",
   "metadata": {},
   "source": [
    "* *Tasa de regularización*"
   ]
  },
  {
   "cell_type": "code",
   "execution_count": 279,
   "metadata": {},
   "outputs": [],
   "source": [
    "regs = [x for x in range(20,71,2)]\n",
    "metrics_regs = []\n",
    "\n",
    "for reg in regs:\n",
    "    alpha = 40\n",
    "    train, test = train_test_split(matrix_item_user * alpha, train_percentage=0.8)\n",
    "    model = AlternatingLeastSquares(factors=20, regularization=reg, iterations=15, random_state=42)\n",
    "    model.fit(train, show_progress=False)\n",
    "    r = ranking_metrics_at_k(model, train.T, test.T, K=20, num_threads=0, show_progress=False)\n",
    "    metrics_regs.append(r)"
   ]
  },
  {
   "cell_type": "markdown",
   "metadata": {},
   "source": [
    "* *Número de iteraciones*"
   ]
  },
  {
   "cell_type": "code",
   "execution_count": 280,
   "metadata": {},
   "outputs": [],
   "source": [
    "iterations = [x for x in range(15,101,5)]\n",
    "metrics_iterations = []\n",
    "\n",
    "for iteration in iterations:\n",
    "    alpha = 40\n",
    "    train, test = train_test_split(matrix_item_user * alpha, train_percentage=0.8)\n",
    "    model = AlternatingLeastSquares(factors=20, regularization=0.1, iterations=iteration, random_state=42)\n",
    "    model.fit(train, show_progress=False)\n",
    "    r = ranking_metrics_at_k(model, train.T, test.T, K=20, num_threads=0, show_progress=False)\n",
    "    metrics_iterations.append(r)"
   ]
  },
  {
   "cell_type": "code",
   "execution_count": 281,
   "metadata": {},
   "outputs": [],
   "source": [
    "map_alpha = []\n",
    "map_factor = []\n",
    "map_reg = []\n",
    "map_iteration = []\n",
    "\n",
    "for i in range(len(metrics_alphas)):\n",
    "    map_alpha.append(metrics_alphas[i]['map'])\n",
    "    \n",
    "for i in range(len(metrics_factors)):\n",
    "    map_factor.append(metrics_factors[i]['map'])\n",
    "    \n",
    "for i in range(len(metrics_regs)):\n",
    "    map_reg.append(metrics_regs[i]['map'])\n",
    "    \n",
    "for i in range(len(metrics_iterations)):\n",
    "    map_iteration.append(metrics_iterations[i]['map'])"
   ]
  },
  {
   "cell_type": "markdown",
   "metadata": {},
   "source": [
    "* *Gráficando*"
   ]
  },
  {
   "cell_type": "code",
   "execution_count": 282,
   "metadata": {},
   "outputs": [
    {
     "data": {
      "image/png": "[encoded data removed]",
      "text/plain": [
       "<Figure size 1008x576 with 4 Axes>"
      ]
     },
     "metadata": {
      "needs_background": "light"
     },
     "output_type": "display_data"
    }
   ],
   "source": [
    "plt.figure(figsize=(14,8))\n",
    "plt.subplot(2,2,1)\n",
    "plt.title('MAP@k con respecto al parámetro Alpha')\n",
    "plt.plot(alphas, map_alpha, 's-c',color='#23E39E')\n",
    "plt.xlabel('Alpha')\n",
    "plt.ylabel('MAP@k')\n",
    "plt.xlim(10,60)\n",
    "plt.grid()\n",
    "plt.subplot(2,2,2)\n",
    "plt.title('MAP@k con respecto al factor latente')\n",
    "plt.plot(factors, map_factor, 's-y',color='#0E746E')\n",
    "plt.xlabel('Factor latente')\n",
    "plt.ylabel('MAP@k')\n",
    "plt.xlim(10,40)\n",
    "plt.grid()\n",
    "plt.subplot(2,2,3)\n",
    "plt.title('MAP@k con respecto a la tasa de regularización')\n",
    "plt.plot(regs, map_reg, 's-g',color='#0EB16E')\n",
    "plt.xlabel('Tasa de regularización')\n",
    "plt.ylabel('MAP@k')\n",
    "plt.xlim(20,70)\n",
    "plt.grid()\n",
    "plt.subplot(2,2,4)\n",
    "plt.title('MAP@k con respecto al número de iteraciones')\n",
    "plt.plot(iterations, map_iteration, 's-m',color='#0E426E')\n",
    "plt.xlabel('Número de iteraciones')\n",
    "plt.ylabel('MAP@k')\n",
    "plt.xlim(15,100)\n",
    "plt.grid()\n",
    "plt.tight_layout()\n",
    "plt.show()"
   ]
  },
  {
   "cell_type": "markdown",
   "metadata": {},
   "source": [
    "**Análisis:** Se evidencia como la métrica con respecto al número de iteraciones es relativamente constante entre 75 y 85, por lo cual se toman 80 iteraciones para este parámetro. En los demás parámetros no se evidencia una tendencia clara, es por eso que para elegir los hiperparámetros se realizará una validación cruzada."
   ]
  },
  {
   "cell_type": "markdown",
   "metadata": {},
   "source": [
    "* *Se realiza validación cruzada para determinar los mejores hiperparámetros de los parámetros faltantes*"
   ]
  },
  {
   "cell_type": "code",
   "execution_count": 283,
   "metadata": {},
   "outputs": [],
   "source": [
    "alphas2 = [x for x in range(20,31,2)]\n",
    "factors2 = [x for x in range(25,61,5)]\n",
    "regs2 = [x for x in range(35,71,5)]\n",
    "\n",
    "metrics_grid = []\n",
    "alphas_grid = []\n",
    "factors_grid = []\n",
    "regs_grid = []\n",
    "\n",
    "for alpha in alphas2:\n",
    "    for factor in factors2:\n",
    "        for reg in regs2:\n",
    "            train, test = train_test_split(matrix_item_user * alpha, train_percentage=0.8)\n",
    "            model = AlternatingLeastSquares(factors=factor, regularization=reg, iterations=55, random_state=42)\n",
    "            model.fit(train, show_progress=False)\n",
    "            r = ranking_metrics_at_k(model, train.T, test.T, K=20, num_threads=0, show_progress=False)\n",
    "            metrics_grid.append(r)\n",
    "            alphas_grid.append(alpha)\n",
    "            factors_grid.append(factor)\n",
    "            regs_grid.append(reg)"
   ]
  },
  {
   "cell_type": "code",
   "execution_count": 284,
   "metadata": {},
   "outputs": [],
   "source": [
    "map_grid = []\n",
    "\n",
    "for i in range(len(metrics_grid)):\n",
    "    map_grid.append(metrics_grid[i]['map'])"
   ]
  },
  {
   "cell_type": "code",
   "execution_count": 285,
   "metadata": {},
   "outputs": [],
   "source": [
    "dict_metrics = {'alpha': alphas_grid, 'factor': factors_grid, 'regularization': regs_grid, 'MAP_k': map_grid}\n",
    "Frame_metrics = pd.DataFrame(data=dict_metrics)"
   ]
  },
  {
   "cell_type": "code",
   "execution_count": 286,
   "metadata": {},
   "outputs": [
    {
     "data": {
      "text/html": [
       "<div>\n",
       "<style scoped>\n",
       "    .dataframe tbody tr th:only-of-type {\n",
       "        vertical-align: middle;\n",
       "    }\n",
       "\n",
       "    .dataframe tbody tr th {\n",
       "        vertical-align: top;\n",
       "    }\n",
       "\n",
       "    .dataframe thead th {\n",
       "        text-align: right;\n",
       "    }\n",
       "</style>\n",
       "<table border=\"1\" class=\"dataframe\">\n",
       "  <thead>\n",
       "    <tr style=\"text-align: right;\">\n",
       "      <th></th>\n",
       "      <th>alpha</th>\n",
       "      <th>factor</th>\n",
       "      <th>regularization</th>\n",
       "      <th>MAP_k</th>\n",
       "    </tr>\n",
       "  </thead>\n",
       "  <tbody>\n",
       "    <tr>\n",
       "      <th>7</th>\n",
       "      <td>20</td>\n",
       "      <td>25</td>\n",
       "      <td>70</td>\n",
       "      <td>0.031383</td>\n",
       "    </tr>\n",
       "  </tbody>\n",
       "</table>\n",
       "</div>"
      ],
      "text/plain": [
       "   alpha  factor  regularization     MAP_k\n",
       "7     20      25              70  0.031383"
      ]
     },
     "execution_count": 286,
     "metadata": {},
     "output_type": "execute_result"
    }
   ],
   "source": [
    "Frame_metrics[Frame_metrics.MAP_k == Frame_metrics.MAP_k.max()]"
   ]
  },
  {
   "cell_type": "markdown",
   "metadata": {},
   "source": [
    "**Análisis:** Finalmente los hiperparámetros definidos para optimizar el modelos son: alpha = 20, factor latente = 25, tasa de regularización = 70 y número de iteraciones = 80."
   ]
  },
  {
   "cell_type": "markdown",
   "metadata": {},
   "source": [
    "***Evaluación del modelo y presentación de resultados***"
   ]
  },
  {
   "cell_type": "markdown",
   "metadata": {},
   "source": [
    "* *Se reentrena el modelo con los hiperparámetros seleccionados y se calcula la métrica de evaluación*"
   ]
  },
  {
   "cell_type": "code",
   "execution_count": 287,
   "metadata": {},
   "outputs": [],
   "source": [
    "alpha = 20"
   ]
  },
  {
   "cell_type": "code",
   "execution_count": 288,
   "metadata": {},
   "outputs": [],
   "source": [
    "train, test = train_test_split(matrix_item_user * alpha, train_percentage=0.8)"
   ]
  },
  {
   "cell_type": "code",
   "execution_count": 332,
   "metadata": {},
   "outputs": [
    {
     "data": {
      "application/vnd.jupyter.widget-view+json": {
       "model_id": "6417e9ec0a9a4d08a68d603e72cb0505",
       "version_major": 2,
       "version_minor": 0
      },
      "text/plain": [
       "  0%|          | 0/80 [00:00<?, ?it/s]"
      ]
     },
     "metadata": {},
     "output_type": "display_data"
    }
   ],
   "source": [
    "model = AlternatingLeastSquares(factors=25, regularization=70, iterations=80, random_state=42)\n",
    "model.fit(train, show_progress=True)"
   ]
  },
  {
   "cell_type": "code",
   "execution_count": 333,
   "metadata": {},
   "outputs": [
    {
     "data": {
      "application/vnd.jupyter.widget-view+json": {
       "model_id": "49a3749724b240f9a8eebf748cdda1fc",
       "version_major": 2,
       "version_minor": 0
      },
      "text/plain": [
       "  0%|          | 0/5404 [00:00<?, ?it/s]"
      ]
     },
     "metadata": {},
     "output_type": "display_data"
    },
    {
     "name": "stdout",
     "output_type": "stream",
     "text": [
      "El modelo tiene un valor de MAP@k igual a : 0.030\n"
     ]
    }
   ],
   "source": [
    "p_K = ranking_metrics_at_k(model, train.T, test.T, K=20, show_progress=True)\n",
    "print('El modelo tiene un valor de MAP@k igual a : %0.3f' % (p_K['map']))"
   ]
  },
  {
   "cell_type": "markdown",
   "metadata": {},
   "source": [
    "**Análisis:** El valor de MAP@K presenta un aumento con respecto al primer modelo ejecutado, pasando de 0.021 a 0.030."
   ]
  },
  {
   "cell_type": "markdown",
   "metadata": {},
   "source": [
    "* *Se evalúa como varía la métrica respecto al valor de K, tanto para el modelo optimizado como para el caso Benchmark*"
   ]
  },
  {
   "cell_type": "code",
   "execution_count": 327,
   "metadata": {},
   "outputs": [],
   "source": [
    "Ks = [5,10,20,30,50,80,100,150,200,250,300,350,400,450,500]\n",
    "\n",
    "metrics_model = []\n",
    "metrics_Benchmark = []\n",
    "\n",
    "for K in Ks:\n",
    "    r_model = ranking_metrics_at_k(model, train.T, test.T, K=K, show_progress=False)\n",
    "    r_benchmark = ranking_metrics_at_k(Benchmark, train.T, test.T, K=K, show_progress=False)\n",
    "    metrics_model.append(r_model)\n",
    "    metrics_Benchmark.append(r_benchmark)   "
   ]
  },
  {
   "cell_type": "code",
   "execution_count": 328,
   "metadata": {},
   "outputs": [],
   "source": [
    "precision_model = []\n",
    "precision_benchmark = []\n",
    "\n",
    "for i in range(len(metrics_model)):\n",
    "    precision_model.append(metrics_model[i]['map'])\n",
    "    precision_benchmark.append(metrics_Benchmark[i]['map'])"
   ]
  },
  {
   "cell_type": "code",
   "execution_count": 329,
   "metadata": {},
   "outputs": [
    {
     "data": {
      "image/png": "[encoded data removed]",
      "text/plain": [
       "<Figure size 504x360 with 1 Axes>"
      ]
     },
     "metadata": {
      "needs_background": "light"
     },
     "output_type": "display_data"
    }
   ],
   "source": [
    "plt.figure(figsize=(7,5))\n",
    "plt.title('MAP@k con respecto a K')\n",
    "plt.plot(Ks, precision_model, '^--b', label='modelo',color='#23E39E')\n",
    "plt.plot(Ks, precision_benchmark, '^--r', label='benchmark',color = '#0E746E')\n",
    "plt.xlabel('K')\n",
    "plt.ylabel('MAP@k')\n",
    "plt.legend(loc=0)\n",
    "plt.xlim(5,500)\n",
    "plt.grid()\n",
    "plt.show()"
   ]
  },
  {
   "cell_type": "markdown",
   "metadata": {},
   "source": [
    "**Análisis:** El modelo Benchmark presenta mejores métricas que el modelo de filtro colaborativo implementado, podría asumirse que un modelo más sencillo presenta mejores resultados para el dataset. Para mejorarlo podría probarse otro modelo u otra librería, así mismo ajustar el preprocesamiento."
   ]
  },
  {
   "cell_type": "markdown",
   "metadata": {},
   "source": [
    "* *Se prueba el modelo con un usuario aleatorio*"
   ]
  },
  {
   "cell_type": "code",
   "execution_count": 358,
   "metadata": {},
   "outputs": [],
   "source": [
    "user = 4352"
   ]
  },
  {
   "cell_type": "code",
   "execution_count": 359,
   "metadata": {},
   "outputs": [],
   "source": [
    "usuario = np.unique(data_reviews.username[data_reviews.user_id == user])[0]\n",
    "juegos_usuario_codigo = data_reviews.game_id[data_reviews.user_id == user]\n",
    "juegos_usuario = list(juegos_usuario_codigo.map(dict(zip(data_games.game_id,data_games.title))).values)"
   ]
  },
  {
   "cell_type": "code",
   "execution_count": 360,
   "metadata": {},
   "outputs": [],
   "source": [
    "recommended = model.recommend(userid = user, user_items = matrix_user_item, N=20, filter_items = list(juegos_usuario_codigo))"
   ]
  },
  {
   "cell_type": "code",
   "execution_count": 361,
   "metadata": {},
   "outputs": [],
   "source": [
    "games = []\n",
    "preds = []\n",
    "for i in range(0,len(recommended)):\n",
    "    game = recommended[i][0]\n",
    "    pred = recommended[i][1]\n",
    "    games.append(game)\n",
    "    preds.append(pred)\n",
    "    \n",
    "recom = pd.Series(preds, index = games)\n",
    "recom.index = recom.index.map(dict(zip(data_games.game_id,data_games.title)))"
   ]
  },
  {
   "cell_type": "code",
   "execution_count": 362,
   "metadata": {},
   "outputs": [
    {
     "name": "stdout",
     "output_type": "stream",
     "text": [
      "Usuario :  Turbo\n",
      "Juegos del usuario :  ['NBA 2K16', 'Tom Clancy’s The Division™', 'Nether: Resurrected', 'Friday the 13th: The Game', 'Borderlands 2']\n"
     ]
    }
   ],
   "source": [
    "print('Usuario : ', usuario)\n",
    "print('Juegos del usuario : ', juegos_usuario)"
   ]
  },
  {
   "cell_type": "code",
   "execution_count": 363,
   "metadata": {},
   "outputs": [
    {
     "name": "stdout",
     "output_type": "stream",
     "text": [
      "Recomendaciones por similitud: \n",
      "\n",
      "Life is Strange - Episode 1    0.835282\n",
      "Paladins®                      0.627209\n",
      "Unturned                       0.610484\n",
      "Rust                           0.591667\n",
      "XCOM: Enemy Unknown            0.579826\n",
      "Max Payne 3                    0.549741\n",
      "Amnesia: The Dark Descent      0.534218\n",
      "Heroes &amp; Generals          0.530372\n",
      "Sleeping Dogs                  0.530351\n",
      "Fallout 4                      0.509052\n",
      "Gang Beasts                    0.508925\n",
      "Mount &amp; Blade: Warband     0.503075\n",
      "HuniePop                       0.501271\n",
      "Transistor                     0.477060\n",
      "Saints Row: The Third          0.476850\n",
      "Dirty Bomb®                    0.446205\n",
      "Plague Inc: Evolved            0.424011\n",
      "Verdun                         0.422305\n",
      "The Walking Dead: Season 2     0.422283\n",
      "Outlast                        0.393137\n",
      "dtype: float64\n"
     ]
    }
   ],
   "source": [
    "print('Recomendaciones por similitud: \\n')\n",
    "print(recom)"
   ]
  },
  {
   "cell_type": "markdown",
   "metadata": {},
   "source": [
    "### Parte C - Investigación"
   ]
  },
  {
   "cell_type": "markdown",
   "metadata": {},
   "source": [
    "Los sistemas de recomendación más comunes son los que se generan a partir de un filtro colaborativo o los basados en contenidos. \n",
    "\n",
    "Para este proyecto se usó un modelo de filtro colaborativo, que presenta ventajas como la posibilidad de filtrar ítems basados en calidad y gustos, midiendo qué tan bien un ítem es afín al usuario más allá del contenido, o también la capacidad de generar recomendaciones inesperadas que pueden ser valiosas para el usuario pero que no contienen información que el usuario estaba esperando. Sin embargo, tiene inconvenientes cuando un ítem ingresa nuevo al sistema porque no tiene ninguna calificación o en su defecto tiene pocas calificaciones, o en los casos de usuarios “gray sheep” que tienen opiniones que no coinciden con el grupo por lo que no se encontrarán usuarios similares (1). \n",
    "\n",
    "Por su parte, el filtrado basado en contenidos no presenta estos inconvenientes, debido a que recomienda ítems basados en el perfil del usuario, analizando el contenido de los ítems que este ha calificado. Sin embargo, también puede ser poco efectivo, porque tiene la dificultad para distinguir entre información de baja y alta calidad, que pertenezcan al mismo tema (1).\n",
    "\n",
    "Para resolver el problema que se tiene en los algoritmos anteriores, en la práctica se utilizan **Sistemas Híbridos** que usan una combinación de modelos de manera que se utilicen las fortalezas de cada uno de estos. Por el tipo de combinación que se aplique, los sistemas híbridos se dividen así (2):\n",
    "\n",
    "-\tPonderado: El resultado de los distintos algoritmos de recomendación son combinados con diferentes pesos para producir una sola recomendación.\n",
    "-\tIntercambio: El sistema aplica un algoritmo de recomendación de acuerdo con diferentes criterios de los datos o resultados.\n",
    "-\tMixto: Se presenta resultados de diferentes sistemas de recomendación al mismo tiempo.\n",
    "-\tCombinación de características: Características de distintas fuentes de datos se utilizan en un solo algoritmo de recomendación.\n",
    "-\tEn cascada: Un algoritmo de recomendación mejora los resultados de otro\n",
    "-\tAumento de funciones: Los resultados de un algoritmo sirven como entrada para otro algoritmo.\n",
    "\n",
    "\n",
    "**Implementación en el dataset**\n",
    "\n",
    "En este dataset se puede usar un **Sistema en Cascada**, generando inicialmente un modelo de filtro colaborativo y luego un modelo basado en contenidos.\n",
    "\n",
    "Para el modelo basado en contenidos se tomaría la variable *‘genres’*, la cual actualmente tiene la estructura *[Adventure, Animation, Children, Comedy, Fantasy]*. Para procesar esta variable, se debe realizar un encoding generando una columna para cada género y asignándole valores binarios (1,0). \n",
    "\n",
    "Luego de tener la variable en esta estructura, se pondera cada género y luego se reescalan los resultados, para obtener los pesos de preferencia de cada usuario. \n",
    "\n",
    "Finalmente se corre el modelo basado en contenidos, que acotaría los resultados del filtro colaborativo y mejoraría las recomendaciones para los usuarios. Se podrían probar las diferencias generando las recomendaciones para uno o varios usuarios aleatorios solo con el filtro colaborativo y luego de implementar el modelo basado en contenidos.\n",
    "\n",
    "\n",
    "***Referencias***\n",
    "\n",
    "(1) https://repository.unab.edu.co/bitstream/handle/20.500.12749/3331/2003_Tesis_Olga_Lucia_Monroy_Vecino.pdf?sequence=1&isAllowed=y\n",
    "\n",
    "(2) http://oa.upm.es/43313/1/TFM_MIGUEL_MOLINA_CRESPO.pdf"
   ]
  }
 ],
 "metadata": {
  "colab": {
   "collapsed_sections": [],
   "name": "DS_Proyecto_03_SR.ipynb",
   "provenance": []
  },
  "kernelspec": {
   "display_name": "Python 3",
   "language": "python",
   "name": "python3"
  },
  "language_info": {
   "codemirror_mode": {
    "name": "ipython",
    "version": 3
   },
   "file_extension": ".py",
   "mimetype": "text/x-python",
   "name": "python",
   "nbconvert_exporter": "python",
   "pygments_lexer": "ipython3",
   "version": "3.8.3"
  }
 },
 "nbformat": 4,
 "nbformat_minor": 4
}
