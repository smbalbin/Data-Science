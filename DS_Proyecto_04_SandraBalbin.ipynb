{
 "cells": [
  {
   "cell_type": "markdown",
   "metadata": {},
   "source": [
    "# Proyecto 04 - Informe Final Carrera\n",
    "\n",
    "***Presentado por:*** *Sandra Marcela Balbin Agudelo*\n",
    "***Grupo:*** *DS-ONLINE-38*"
   ]
  },
  {
   "cell_type": "markdown",
   "metadata": {},
   "source": [
    "## Sistema de recomendación basado en contenidos."
   ]
  },
  {
   "cell_type": "markdown",
   "metadata": {},
   "source": [
    "Este proyecto, así como el proyecto 3, se pueden ver y descargar [aquí](https://github.com/smbalbin/Data-Science.git)."
   ]
  },
  {
   "cell_type": "markdown",
   "metadata": {},
   "source": [
    "**Objetivo:** Desarrollar un sistema de recomendación basado en contenidos, para recomendar juegos a los usuarios de acuerdo a los géneros a los que suelen recurrir."
   ]
  },
  {
   "cell_type": "markdown",
   "metadata": {},
   "source": [
    "Los sistemas de recomendación Content-Based son algoritmos utilizados para sugerir elementos a los usuarios basados en sus preferencias. Se parte de información del mismo usuario para recomendar otras opciones similares a las favoritas del mismo. Estos recomendadores son muy comunes en aplicaciones de contenido como Netflix o Spotify, así como en tiendas online y buscadores de trabajo.\n",
    "\n",
    "Este tipo de modelo es aplicable al dataset de juegos disponible, y puede brindar una recomendación más exacta que la ofrecida por el filtro colaborativo.\n",
    "\n",
    "Para cumplir el objetivo se implementará una versión simple de este tipo de recomendadores, usando pandas."
   ]
  },
  {
   "cell_type": "markdown",
   "metadata": {},
   "source": [
    "* **Importación de librerías**"
   ]
  },
  {
   "cell_type": "code",
   "execution_count": 1,
   "metadata": {},
   "outputs": [],
   "source": [
    "import numpy as np\n",
    "import pandas as pd\n",
    "import gzip\n",
    "from math import sqrt\n",
    "\n",
    "pd.set_option('display.width', 150)\n",
    "\n",
    "def parse(path):\n",
    "    g = gzip.open(path, 'r')\n",
    "    for l in g:\n",
    "        yield eval(l)"
   ]
  },
  {
   "cell_type": "markdown",
   "metadata": {},
   "source": [
    "* **Carga de los dataset y visualización inicial**"
   ]
  },
  {
   "cell_type": "markdown",
   "metadata": {},
   "source": [
    "***Dataset reviews***"
   ]
  },
  {
   "cell_type": "code",
   "execution_count": 2,
   "metadata": {},
   "outputs": [],
   "source": [
    "contador = 0\n",
    "data_reviews = []\n",
    "n = 10\n",
    "for l in parse('steam_reviews.json.gz'):\n",
    "    if contador%n == 0:\n",
    "        data_reviews.append(l)\n",
    "    else:\n",
    "        pass\n",
    "    contador += 1"
   ]
  },
  {
   "cell_type": "code",
   "execution_count": 3,
   "metadata": {},
   "outputs": [],
   "source": [
    "data_reviews = pd.DataFrame(data_reviews)"
   ]
  },
  {
   "cell_type": "code",
   "execution_count": 4,
   "metadata": {},
   "outputs": [
    {
     "data": {
      "text/html": [
       "<div>\n",
       "<style scoped>\n",
       "    .dataframe tbody tr th:only-of-type {\n",
       "        vertical-align: middle;\n",
       "    }\n",
       "\n",
       "    .dataframe tbody tr th {\n",
       "        vertical-align: top;\n",
       "    }\n",
       "\n",
       "    .dataframe thead th {\n",
       "        text-align: right;\n",
       "    }\n",
       "</style>\n",
       "<table border=\"1\" class=\"dataframe\">\n",
       "  <thead>\n",
       "    <tr style=\"text-align: right;\">\n",
       "      <th></th>\n",
       "      <th>username</th>\n",
       "      <th>hours</th>\n",
       "      <th>products</th>\n",
       "      <th>product_id</th>\n",
       "      <th>page_order</th>\n",
       "      <th>date</th>\n",
       "      <th>text</th>\n",
       "      <th>early_access</th>\n",
       "      <th>page</th>\n",
       "      <th>user_id</th>\n",
       "      <th>compensation</th>\n",
       "      <th>found_funny</th>\n",
       "    </tr>\n",
       "  </thead>\n",
       "  <tbody>\n",
       "    <tr>\n",
       "      <th>0</th>\n",
       "      <td>Chaos Syren</td>\n",
       "      <td>0.1</td>\n",
       "      <td>41.0</td>\n",
       "      <td>725280</td>\n",
       "      <td>0</td>\n",
       "      <td>2017-12-17</td>\n",
       "      <td>This would not be acceptable as an entertainme...</td>\n",
       "      <td>False</td>\n",
       "      <td>1</td>\n",
       "      <td>NaN</td>\n",
       "      <td>NaN</td>\n",
       "      <td>NaN</td>\n",
       "    </tr>\n",
       "    <tr>\n",
       "      <th>1</th>\n",
       "      <td>Ariman1</td>\n",
       "      <td>13.2</td>\n",
       "      <td>1386.0</td>\n",
       "      <td>328100</td>\n",
       "      <td>2</td>\n",
       "      <td>2017-08-02</td>\n",
       "      <td>Addictive RPG ! Works fine on linux though it ...</td>\n",
       "      <td>False</td>\n",
       "      <td>1</td>\n",
       "      <td>NaN</td>\n",
       "      <td>NaN</td>\n",
       "      <td>NaN</td>\n",
       "    </tr>\n",
       "    <tr>\n",
       "      <th>2</th>\n",
       "      <td>freakfantom</td>\n",
       "      <td>0.1</td>\n",
       "      <td>1706.0</td>\n",
       "      <td>725280</td>\n",
       "      <td>5</td>\n",
       "      <td>2017-11-12</td>\n",
       "      <td>Прикольная стрелялка. Взял дешево на распродаже.</td>\n",
       "      <td>False</td>\n",
       "      <td>1</td>\n",
       "      <td>NaN</td>\n",
       "      <td>NaN</td>\n",
       "      <td>NaN</td>\n",
       "    </tr>\n",
       "    <tr>\n",
       "      <th>3</th>\n",
       "      <td>The_Cpt_FROGGY</td>\n",
       "      <td>7.8</td>\n",
       "      <td>2217.0</td>\n",
       "      <td>631920</td>\n",
       "      <td>0</td>\n",
       "      <td>2017-12-11</td>\n",
       "      <td>Somewhere on Zibylon:\\n~~~~~~~~~~~~~~~~~~\\nZib...</td>\n",
       "      <td>False</td>\n",
       "      <td>1</td>\n",
       "      <td>76561198003030375</td>\n",
       "      <td>Product received for free</td>\n",
       "      <td>NaN</td>\n",
       "    </tr>\n",
       "    <tr>\n",
       "      <th>4</th>\n",
       "      <td>the_maker988</td>\n",
       "      <td>8.2</td>\n",
       "      <td>18.0</td>\n",
       "      <td>35140</td>\n",
       "      <td>7</td>\n",
       "      <td>2018-01-02</td>\n",
       "      <td>This game was way to linear for me, and compar...</td>\n",
       "      <td>False</td>\n",
       "      <td>1</td>\n",
       "      <td>76561198353396844</td>\n",
       "      <td>NaN</td>\n",
       "      <td>NaN</td>\n",
       "    </tr>\n",
       "  </tbody>\n",
       "</table>\n",
       "</div>"
      ],
      "text/plain": [
       "         username  hours  products product_id  page_order        date                                               text  early_access  page  \\\n",
       "0     Chaos Syren    0.1      41.0     725280           0  2017-12-17  This would not be acceptable as an entertainme...         False     1   \n",
       "1         Ariman1   13.2    1386.0     328100           2  2017-08-02  Addictive RPG ! Works fine on linux though it ...         False     1   \n",
       "2     freakfantom    0.1    1706.0     725280           5  2017-11-12   Прикольная стрелялка. Взял дешево на распродаже.         False     1   \n",
       "3  The_Cpt_FROGGY    7.8    2217.0     631920           0  2017-12-11  Somewhere on Zibylon:\\n~~~~~~~~~~~~~~~~~~\\nZib...         False     1   \n",
       "4    the_maker988    8.2      18.0      35140           7  2018-01-02  This game was way to linear for me, and compar...         False     1   \n",
       "\n",
       "             user_id               compensation  found_funny  \n",
       "0                NaN                        NaN          NaN  \n",
       "1                NaN                        NaN          NaN  \n",
       "2                NaN                        NaN          NaN  \n",
       "3  76561198003030375  Product received for free          NaN  \n",
       "4  76561198353396844                        NaN          NaN  "
      ]
     },
     "execution_count": 4,
     "metadata": {},
     "output_type": "execute_result"
    }
   ],
   "source": [
    "data_reviews.head(5)"
   ]
  },
  {
   "cell_type": "code",
   "execution_count": 5,
   "metadata": {},
   "outputs": [
    {
     "data": {
      "text/plain": [
       "(779307, 12)"
      ]
     },
     "execution_count": 5,
     "metadata": {},
     "output_type": "execute_result"
    }
   ],
   "source": [
    "data_reviews.shape"
   ]
  },
  {
   "cell_type": "markdown",
   "metadata": {},
   "source": [
    "***Dataset games***"
   ]
  },
  {
   "cell_type": "code",
   "execution_count": 6,
   "metadata": {},
   "outputs": [],
   "source": [
    "data_games = []\n",
    "for l in parse('steam_games.json.gz'):\n",
    "    data_games.append(l)\n",
    "data_games = pd.DataFrame(data_games)"
   ]
  },
  {
   "cell_type": "code",
   "execution_count": 7,
   "metadata": {},
   "outputs": [
    {
     "data": {
      "text/html": [
       "<div>\n",
       "<style scoped>\n",
       "    .dataframe tbody tr th:only-of-type {\n",
       "        vertical-align: middle;\n",
       "    }\n",
       "\n",
       "    .dataframe tbody tr th {\n",
       "        vertical-align: top;\n",
       "    }\n",
       "\n",
       "    .dataframe thead th {\n",
       "        text-align: right;\n",
       "    }\n",
       "</style>\n",
       "<table border=\"1\" class=\"dataframe\">\n",
       "  <thead>\n",
       "    <tr style=\"text-align: right;\">\n",
       "      <th></th>\n",
       "      <th>publisher</th>\n",
       "      <th>genres</th>\n",
       "      <th>app_name</th>\n",
       "      <th>title</th>\n",
       "      <th>url</th>\n",
       "      <th>release_date</th>\n",
       "      <th>tags</th>\n",
       "      <th>discount_price</th>\n",
       "      <th>reviews_url</th>\n",
       "      <th>specs</th>\n",
       "      <th>price</th>\n",
       "      <th>early_access</th>\n",
       "      <th>id</th>\n",
       "      <th>developer</th>\n",
       "      <th>sentiment</th>\n",
       "      <th>metascore</th>\n",
       "    </tr>\n",
       "  </thead>\n",
       "  <tbody>\n",
       "    <tr>\n",
       "      <th>0</th>\n",
       "      <td>Kotoshiro</td>\n",
       "      <td>[Action, Casual, Indie, Simulation, Strategy]</td>\n",
       "      <td>Lost Summoner Kitty</td>\n",
       "      <td>Lost Summoner Kitty</td>\n",
       "      <td>http://store.steampowered.com/app/761140/Lost_...</td>\n",
       "      <td>2018-01-04</td>\n",
       "      <td>[Strategy, Action, Indie, Casual, Simulation]</td>\n",
       "      <td>4.49</td>\n",
       "      <td>http://steamcommunity.com/app/761140/reviews/?...</td>\n",
       "      <td>[Single-player]</td>\n",
       "      <td>4.99</td>\n",
       "      <td>False</td>\n",
       "      <td>761140</td>\n",
       "      <td>Kotoshiro</td>\n",
       "      <td>NaN</td>\n",
       "      <td>NaN</td>\n",
       "    </tr>\n",
       "    <tr>\n",
       "      <th>1</th>\n",
       "      <td>Making Fun, Inc.</td>\n",
       "      <td>[Free to Play, Indie, RPG, Strategy]</td>\n",
       "      <td>Ironbound</td>\n",
       "      <td>Ironbound</td>\n",
       "      <td>http://store.steampowered.com/app/643980/Ironb...</td>\n",
       "      <td>2018-01-04</td>\n",
       "      <td>[Free to Play, Strategy, Indie, RPG, Card Game...</td>\n",
       "      <td>NaN</td>\n",
       "      <td>http://steamcommunity.com/app/643980/reviews/?...</td>\n",
       "      <td>[Single-player, Multi-player, Online Multi-Pla...</td>\n",
       "      <td>Free To Play</td>\n",
       "      <td>False</td>\n",
       "      <td>643980</td>\n",
       "      <td>Secret Level SRL</td>\n",
       "      <td>Mostly Positive</td>\n",
       "      <td>NaN</td>\n",
       "    </tr>\n",
       "    <tr>\n",
       "      <th>2</th>\n",
       "      <td>Poolians.com</td>\n",
       "      <td>[Casual, Free to Play, Indie, Simulation, Sports]</td>\n",
       "      <td>Real Pool 3D - Poolians</td>\n",
       "      <td>Real Pool 3D - Poolians</td>\n",
       "      <td>http://store.steampowered.com/app/670290/Real_...</td>\n",
       "      <td>2017-07-24</td>\n",
       "      <td>[Free to Play, Simulation, Sports, Casual, Ind...</td>\n",
       "      <td>NaN</td>\n",
       "      <td>http://steamcommunity.com/app/670290/reviews/?...</td>\n",
       "      <td>[Single-player, Multi-player, Online Multi-Pla...</td>\n",
       "      <td>Free to Play</td>\n",
       "      <td>False</td>\n",
       "      <td>670290</td>\n",
       "      <td>Poolians.com</td>\n",
       "      <td>Mostly Positive</td>\n",
       "      <td>NaN</td>\n",
       "    </tr>\n",
       "    <tr>\n",
       "      <th>3</th>\n",
       "      <td>彼岸领域</td>\n",
       "      <td>[Action, Adventure, Casual]</td>\n",
       "      <td>弹炸人2222</td>\n",
       "      <td>弹炸人2222</td>\n",
       "      <td>http://store.steampowered.com/app/767400/2222/</td>\n",
       "      <td>2017-12-07</td>\n",
       "      <td>[Action, Adventure, Casual]</td>\n",
       "      <td>0.83</td>\n",
       "      <td>http://steamcommunity.com/app/767400/reviews/?...</td>\n",
       "      <td>[Single-player]</td>\n",
       "      <td>0.99</td>\n",
       "      <td>False</td>\n",
       "      <td>767400</td>\n",
       "      <td>彼岸领域</td>\n",
       "      <td>NaN</td>\n",
       "      <td>NaN</td>\n",
       "    </tr>\n",
       "    <tr>\n",
       "      <th>4</th>\n",
       "      <td>NaN</td>\n",
       "      <td>NaN</td>\n",
       "      <td>Log Challenge</td>\n",
       "      <td>NaN</td>\n",
       "      <td>http://store.steampowered.com/app/773570/Log_C...</td>\n",
       "      <td>NaN</td>\n",
       "      <td>[Action, Indie, Casual, Sports]</td>\n",
       "      <td>1.79</td>\n",
       "      <td>http://steamcommunity.com/app/773570/reviews/?...</td>\n",
       "      <td>[Single-player, Full controller support, HTC V...</td>\n",
       "      <td>2.99</td>\n",
       "      <td>False</td>\n",
       "      <td>773570</td>\n",
       "      <td>NaN</td>\n",
       "      <td>NaN</td>\n",
       "      <td>NaN</td>\n",
       "    </tr>\n",
       "  </tbody>\n",
       "</table>\n",
       "</div>"
      ],
      "text/plain": [
       "          publisher                                             genres                 app_name                    title  \\\n",
       "0         Kotoshiro      [Action, Casual, Indie, Simulation, Strategy]      Lost Summoner Kitty      Lost Summoner Kitty   \n",
       "1  Making Fun, Inc.               [Free to Play, Indie, RPG, Strategy]                Ironbound                Ironbound   \n",
       "2      Poolians.com  [Casual, Free to Play, Indie, Simulation, Sports]  Real Pool 3D - Poolians  Real Pool 3D - Poolians   \n",
       "3              彼岸领域                        [Action, Adventure, Casual]                  弹炸人2222                  弹炸人2222   \n",
       "4               NaN                                                NaN            Log Challenge                      NaN   \n",
       "\n",
       "                                                 url release_date                                               tags  discount_price  \\\n",
       "0  http://store.steampowered.com/app/761140/Lost_...   2018-01-04      [Strategy, Action, Indie, Casual, Simulation]            4.49   \n",
       "1  http://store.steampowered.com/app/643980/Ironb...   2018-01-04  [Free to Play, Strategy, Indie, RPG, Card Game...             NaN   \n",
       "2  http://store.steampowered.com/app/670290/Real_...   2017-07-24  [Free to Play, Simulation, Sports, Casual, Ind...             NaN   \n",
       "3     http://store.steampowered.com/app/767400/2222/   2017-12-07                        [Action, Adventure, Casual]            0.83   \n",
       "4  http://store.steampowered.com/app/773570/Log_C...          NaN                    [Action, Indie, Casual, Sports]            1.79   \n",
       "\n",
       "                                         reviews_url                                              specs         price  early_access      id  \\\n",
       "0  http://steamcommunity.com/app/761140/reviews/?...                                    [Single-player]          4.99         False  761140   \n",
       "1  http://steamcommunity.com/app/643980/reviews/?...  [Single-player, Multi-player, Online Multi-Pla...  Free To Play         False  643980   \n",
       "2  http://steamcommunity.com/app/670290/reviews/?...  [Single-player, Multi-player, Online Multi-Pla...  Free to Play         False  670290   \n",
       "3  http://steamcommunity.com/app/767400/reviews/?...                                    [Single-player]          0.99         False  767400   \n",
       "4  http://steamcommunity.com/app/773570/reviews/?...  [Single-player, Full controller support, HTC V...          2.99         False  773570   \n",
       "\n",
       "          developer        sentiment metascore  \n",
       "0         Kotoshiro              NaN       NaN  \n",
       "1  Secret Level SRL  Mostly Positive       NaN  \n",
       "2      Poolians.com  Mostly Positive       NaN  \n",
       "3              彼岸领域              NaN       NaN  \n",
       "4               NaN              NaN       NaN  "
      ]
     },
     "execution_count": 7,
     "metadata": {},
     "output_type": "execute_result"
    }
   ],
   "source": [
    "data_games.head(5)"
   ]
  },
  {
   "cell_type": "code",
   "execution_count": 8,
   "metadata": {},
   "outputs": [
    {
     "data": {
      "text/plain": [
       "(32135, 16)"
      ]
     },
     "execution_count": 8,
     "metadata": {},
     "output_type": "execute_result"
    }
   ],
   "source": [
    "data_games.shape"
   ]
  },
  {
   "cell_type": "markdown",
   "metadata": {},
   "source": [
    "### Parte 1 - Preprocesamiento de los dataset"
   ]
  },
  {
   "cell_type": "markdown",
   "metadata": {},
   "source": [
    "***Dataset reviews***"
   ]
  },
  {
   "cell_type": "markdown",
   "metadata": {},
   "source": [
    "* Se genera una copia del dataset para realizar las trasnformaciones."
   ]
  },
  {
   "cell_type": "code",
   "execution_count": 9,
   "metadata": {},
   "outputs": [],
   "source": [
    "reviews_copy = data_reviews.copy()"
   ]
  },
  {
   "cell_type": "markdown",
   "metadata": {},
   "source": [
    "* Se eliminan las variables que no aportan suficiente información sobre los juegos, de esta manera se eliminan las columnas *page_order, date, early_acces, page, compensation* ya que son informativas, la variable *found funny* está en un 85% vacía por lo cual también se retira del dataset."
   ]
  },
  {
   "cell_type": "code",
   "execution_count": 10,
   "metadata": {},
   "outputs": [],
   "source": [
    "reviews_copy.drop(['page_order','date','early_access','page','found_funny','compensation','user_id','products','text'],\n",
    "                  axis=1, inplace=True)"
   ]
  },
  {
   "cell_type": "markdown",
   "metadata": {},
   "source": [
    "* Los registros que no cuentan con horas de juego, no son útiles para desarrollar este sistema de recomendación, por lo tanto se procede a eliminarlos. Estos representan un 0.3% del dataset."
   ]
  },
  {
   "cell_type": "code",
   "execution_count": 11,
   "metadata": {},
   "outputs": [
    {
     "data": {
      "text/plain": [
       "username         0\n",
       "hours         2637\n",
       "product_id       0\n",
       "dtype: int64"
      ]
     },
     "execution_count": 11,
     "metadata": {},
     "output_type": "execute_result"
    }
   ],
   "source": [
    "reviews_copy.isna().sum()"
   ]
  },
  {
   "cell_type": "code",
   "execution_count": 12,
   "metadata": {},
   "outputs": [],
   "source": [
    "reviews_copy.dropna(subset=['hours'], inplace=True)"
   ]
  },
  {
   "cell_type": "code",
   "execution_count": 13,
   "metadata": {},
   "outputs": [
    {
     "data": {
      "text/plain": [
       "username      0\n",
       "hours         0\n",
       "product_id    0\n",
       "dtype: int64"
      ]
     },
     "execution_count": 13,
     "metadata": {},
     "output_type": "execute_result"
    }
   ],
   "source": [
    "reviews_copy.isna().sum()"
   ]
  },
  {
   "cell_type": "markdown",
   "metadata": {},
   "source": [
    "* La variable *user_id* tiene 60% de valores faltantes, por esta razón se elimina y se crea un nuevo **id** para identificar los usuarios."
   ]
  },
  {
   "cell_type": "code",
   "execution_count": 14,
   "metadata": {},
   "outputs": [],
   "source": [
    "user_names = list(np.unique(reviews_copy.username))"
   ]
  },
  {
   "cell_type": "code",
   "execution_count": 15,
   "metadata": {},
   "outputs": [],
   "source": [
    "user_encoded = np.arange(0,len(user_names))"
   ]
  },
  {
   "cell_type": "code",
   "execution_count": 16,
   "metadata": {},
   "outputs": [],
   "source": [
    "reviews_copy['user_id'] = reviews_copy.username.map(dict(zip(user_names,user_encoded)))"
   ]
  },
  {
   "cell_type": "markdown",
   "metadata": {},
   "source": [
    "* El Dataset Reviews no cuenta con una calificación explícita de los juegos y para crear un sistema de recomendación deben existir calificaciones. Se asume que si un jugador juega más de 5 horas un juego es porque le gusta, bajo este supuesto se crea una calificación binaria en la variable *'ratings'* donde si es inferior a 5 horas obtiene '0' y si es igual o mayor a 5 horas '1'."
   ]
  },
  {
   "cell_type": "code",
   "execution_count": 17,
   "metadata": {},
   "outputs": [],
   "source": [
    "def ratings(time):\n",
    "    if time >= 5:\n",
    "        return 1\n",
    "    else:\n",
    "        return 0"
   ]
  },
  {
   "cell_type": "code",
   "execution_count": 18,
   "metadata": {},
   "outputs": [],
   "source": [
    "ratings = reviews_copy['hours'].apply(ratings)\n",
    "\n",
    "reviews_copy['ratings'] = ratings"
   ]
  },
  {
   "cell_type": "markdown",
   "metadata": {},
   "source": [
    "* Se eliminan los juegos que tienen menos de 25 jugadores, pues no son lo suficientemente populares para desarrollar un sistema de recomendación."
   ]
  },
  {
   "cell_type": "code",
   "execution_count": 19,
   "metadata": {},
   "outputs": [],
   "source": [
    "lista = list(reviews_copy.product_id.value_counts().index[reviews_copy.product_id.value_counts().values >= 25])"
   ]
  },
  {
   "cell_type": "code",
   "execution_count": 20,
   "metadata": {},
   "outputs": [],
   "source": [
    "reviews_copy = reviews_copy[reviews_copy.product_id.isin(lista)]"
   ]
  },
  {
   "cell_type": "code",
   "execution_count": 21,
   "metadata": {},
   "outputs": [],
   "source": [
    "reviews_copy = reviews_copy.reset_index(drop = True)"
   ]
  },
  {
   "cell_type": "markdown",
   "metadata": {},
   "source": [
    "* Se eliminan los usuarios con menos de 5 juegos, ya que tienen pocos juegos y puede afectar la eficiencia del modelo para recomendar."
   ]
  },
  {
   "cell_type": "code",
   "execution_count": 22,
   "metadata": {},
   "outputs": [],
   "source": [
    "lista_users = list(reviews_copy.username.value_counts().index[reviews_copy.username.value_counts().values >= 5])"
   ]
  },
  {
   "cell_type": "code",
   "execution_count": 23,
   "metadata": {},
   "outputs": [],
   "source": [
    "reviews_copy = reviews_copy[reviews_copy.username.isin(lista_users)]"
   ]
  },
  {
   "cell_type": "code",
   "execution_count": 24,
   "metadata": {},
   "outputs": [],
   "source": [
    "reviews_copy = reviews_copy.reset_index(drop = True)"
   ]
  },
  {
   "cell_type": "code",
   "execution_count": 25,
   "metadata": {},
   "outputs": [
    {
     "data": {
      "text/html": [
       "<div>\n",
       "<style scoped>\n",
       "    .dataframe tbody tr th:only-of-type {\n",
       "        vertical-align: middle;\n",
       "    }\n",
       "\n",
       "    .dataframe tbody tr th {\n",
       "        vertical-align: top;\n",
       "    }\n",
       "\n",
       "    .dataframe thead th {\n",
       "        text-align: right;\n",
       "    }\n",
       "</style>\n",
       "<table border=\"1\" class=\"dataframe\">\n",
       "  <thead>\n",
       "    <tr style=\"text-align: right;\">\n",
       "      <th></th>\n",
       "      <th>username</th>\n",
       "      <th>hours</th>\n",
       "      <th>product_id</th>\n",
       "      <th>user_id</th>\n",
       "      <th>ratings</th>\n",
       "    </tr>\n",
       "  </thead>\n",
       "  <tbody>\n",
       "    <tr>\n",
       "      <th>0</th>\n",
       "      <td>Puddle</td>\n",
       "      <td>1.2</td>\n",
       "      <td>308040</td>\n",
       "      <td>268687</td>\n",
       "      <td>0</td>\n",
       "    </tr>\n",
       "    <tr>\n",
       "      <th>1</th>\n",
       "      <td>Hanzo</td>\n",
       "      <td>0.2</td>\n",
       "      <td>8880</td>\n",
       "      <td>144378</td>\n",
       "      <td>0</td>\n",
       "    </tr>\n",
       "    <tr>\n",
       "      <th>2</th>\n",
       "      <td>MLGarbage</td>\n",
       "      <td>9.5</td>\n",
       "      <td>35140</td>\n",
       "      <td>207207</td>\n",
       "      <td>1</td>\n",
       "    </tr>\n",
       "    <tr>\n",
       "      <th>3</th>\n",
       "      <td>Lov3toPlay</td>\n",
       "      <td>1.5</td>\n",
       "      <td>308040</td>\n",
       "      <td>202761</td>\n",
       "      <td>0</td>\n",
       "    </tr>\n",
       "    <tr>\n",
       "      <th>4</th>\n",
       "      <td>unit73e</td>\n",
       "      <td>2.7</td>\n",
       "      <td>308040</td>\n",
       "      <td>508319</td>\n",
       "      <td>0</td>\n",
       "    </tr>\n",
       "  </tbody>\n",
       "</table>\n",
       "</div>"
      ],
      "text/plain": [
       "     username  hours product_id  user_id  ratings\n",
       "0      Puddle    1.2     308040   268687        0\n",
       "1       Hanzo    0.2       8880   144378        0\n",
       "2   MLGarbage    9.5      35140   207207        1\n",
       "3  Lov3toPlay    1.5     308040   202761        0\n",
       "4     unit73e    2.7     308040   508319        0"
      ]
     },
     "execution_count": 25,
     "metadata": {},
     "output_type": "execute_result"
    }
   ],
   "source": [
    "reviews_copy.head(5)"
   ]
  },
  {
   "cell_type": "code",
   "execution_count": 26,
   "metadata": {},
   "outputs": [
    {
     "data": {
      "text/plain": [
       "(99260, 5)"
      ]
     },
     "execution_count": 26,
     "metadata": {},
     "output_type": "execute_result"
    }
   ],
   "source": [
    "reviews_copy.shape"
   ]
  },
  {
   "cell_type": "markdown",
   "metadata": {},
   "source": [
    "***Dataset games***"
   ]
  },
  {
   "cell_type": "markdown",
   "metadata": {},
   "source": [
    "* Se genera una copia del dataset, para realizar las transformaciones."
   ]
  },
  {
   "cell_type": "code",
   "execution_count": 27,
   "metadata": {},
   "outputs": [],
   "source": [
    "games_copy = data_games.copy()"
   ]
  },
  {
   "cell_type": "markdown",
   "metadata": {},
   "source": [
    "* El modelo se construirá basado en los géneros de los juegos. La variable *'tags'* también ofrece una clasificación de los juegos, sin embargo, contiene más de 300 opciones, por lo cual se vuelve complejo el modelado. Por lo tanto, se eliminan las variables que no se usarán para el desarrollo del modelo, dejando solo los identificadores de cada juego (*'id'* y *'title'*) y los géneros."
   ]
  },
  {
   "cell_type": "code",
   "execution_count": 28,
   "metadata": {},
   "outputs": [],
   "source": [
    "games_copy.drop(['tags','publisher','app_name','url','release_date','discount_price','reviews_url','specs','price','early_access','developer','sentiment','metascore'],\n",
    "                  axis=1, inplace=True)"
   ]
  },
  {
   "cell_type": "markdown",
   "metadata": {},
   "source": [
    "* Se eliminan los registros que no contengan la variable *'genres'* ya que en esta variable se basará el sistema de recomendación. Además se eliminan registros que no tengan título (*'title'*) o (*'id'*), porque no se pueden recomendar juegos que no sean identificables. Adicional se eliminarán juegos duplicados."
   ]
  },
  {
   "cell_type": "code",
   "execution_count": 29,
   "metadata": {},
   "outputs": [
    {
     "data": {
      "text/plain": [
       "genres    3283\n",
       "title     2050\n",
       "id           2\n",
       "dtype: int64"
      ]
     },
     "execution_count": 29,
     "metadata": {},
     "output_type": "execute_result"
    }
   ],
   "source": [
    "games_copy.isna().sum()"
   ]
  },
  {
   "cell_type": "code",
   "execution_count": 30,
   "metadata": {},
   "outputs": [],
   "source": [
    "games_copy.dropna(subset=['genres','title','id'], inplace=True)\n",
    "games_copy.drop_duplicates(subset=['id'], inplace=True)"
   ]
  },
  {
   "cell_type": "code",
   "execution_count": 31,
   "metadata": {},
   "outputs": [
    {
     "data": {
      "text/plain": [
       "(28849, 3)"
      ]
     },
     "execution_count": 31,
     "metadata": {},
     "output_type": "execute_result"
    }
   ],
   "source": [
    "games_copy.shape"
   ]
  },
  {
   "cell_type": "markdown",
   "metadata": {},
   "source": [
    "* Se dividen los valores de la columna *'genres'* mediante encoding, asignando *'1'* a los juegos que tienen el género y *'0'* a los que no."
   ]
  },
  {
   "cell_type": "code",
   "execution_count": 32,
   "metadata": {},
   "outputs": [],
   "source": [
    "from sklearn.preprocessing import MultiLabelBinarizer\n",
    "pd.options.mode.chained_assignment = None "
   ]
  },
  {
   "cell_type": "code",
   "execution_count": 33,
   "metadata": {},
   "outputs": [],
   "source": [
    "mlb = MultiLabelBinarizer()\n",
    "genre_encoded = mlb.fit_transform(games_copy['genres'])\n",
    "genre_encoded = pd.DataFrame(genre_encoded,columns=mlb.classes_).reset_index(drop = True)\n",
    "genre_encoded = genre_encoded.astype(int)"
   ]
  },
  {
   "cell_type": "code",
   "execution_count": 34,
   "metadata": {},
   "outputs": [
    {
     "data": {
      "text/html": [
       "<div>\n",
       "<style scoped>\n",
       "    .dataframe tbody tr th:only-of-type {\n",
       "        vertical-align: middle;\n",
       "    }\n",
       "\n",
       "    .dataframe tbody tr th {\n",
       "        vertical-align: top;\n",
       "    }\n",
       "\n",
       "    .dataframe thead th {\n",
       "        text-align: right;\n",
       "    }\n",
       "</style>\n",
       "<table border=\"1\" class=\"dataframe\">\n",
       "  <thead>\n",
       "    <tr style=\"text-align: right;\">\n",
       "      <th></th>\n",
       "      <th>id</th>\n",
       "      <th>title</th>\n",
       "      <th>genres</th>\n",
       "      <th>Accounting</th>\n",
       "      <th>Action</th>\n",
       "      <th>Adventure</th>\n",
       "      <th>Animation &amp;amp; Modeling</th>\n",
       "      <th>Audio Production</th>\n",
       "      <th>Casual</th>\n",
       "      <th>Design &amp;amp; Illustration</th>\n",
       "      <th>...</th>\n",
       "      <th>Photo Editing</th>\n",
       "      <th>RPG</th>\n",
       "      <th>Racing</th>\n",
       "      <th>Simulation</th>\n",
       "      <th>Software Training</th>\n",
       "      <th>Sports</th>\n",
       "      <th>Strategy</th>\n",
       "      <th>Utilities</th>\n",
       "      <th>Video Production</th>\n",
       "      <th>Web Publishing</th>\n",
       "    </tr>\n",
       "  </thead>\n",
       "  <tbody>\n",
       "    <tr>\n",
       "      <th>0</th>\n",
       "      <td>761140</td>\n",
       "      <td>Lost Summoner Kitty</td>\n",
       "      <td>[Action, Casual, Indie, Simulation, Strategy]</td>\n",
       "      <td>0.0</td>\n",
       "      <td>1.0</td>\n",
       "      <td>0.0</td>\n",
       "      <td>0.0</td>\n",
       "      <td>0.0</td>\n",
       "      <td>1.0</td>\n",
       "      <td>0.0</td>\n",
       "      <td>...</td>\n",
       "      <td>0.0</td>\n",
       "      <td>0.0</td>\n",
       "      <td>0.0</td>\n",
       "      <td>1.0</td>\n",
       "      <td>0.0</td>\n",
       "      <td>0.0</td>\n",
       "      <td>1.0</td>\n",
       "      <td>0.0</td>\n",
       "      <td>0.0</td>\n",
       "      <td>0.0</td>\n",
       "    </tr>\n",
       "    <tr>\n",
       "      <th>1</th>\n",
       "      <td>643980</td>\n",
       "      <td>Ironbound</td>\n",
       "      <td>[Free to Play, Indie, RPG, Strategy]</td>\n",
       "      <td>0.0</td>\n",
       "      <td>0.0</td>\n",
       "      <td>0.0</td>\n",
       "      <td>0.0</td>\n",
       "      <td>0.0</td>\n",
       "      <td>0.0</td>\n",
       "      <td>0.0</td>\n",
       "      <td>...</td>\n",
       "      <td>0.0</td>\n",
       "      <td>1.0</td>\n",
       "      <td>0.0</td>\n",
       "      <td>0.0</td>\n",
       "      <td>0.0</td>\n",
       "      <td>0.0</td>\n",
       "      <td>1.0</td>\n",
       "      <td>0.0</td>\n",
       "      <td>0.0</td>\n",
       "      <td>0.0</td>\n",
       "    </tr>\n",
       "    <tr>\n",
       "      <th>2</th>\n",
       "      <td>670290</td>\n",
       "      <td>Real Pool 3D - Poolians</td>\n",
       "      <td>[Casual, Free to Play, Indie, Simulation, Sports]</td>\n",
       "      <td>0.0</td>\n",
       "      <td>0.0</td>\n",
       "      <td>0.0</td>\n",
       "      <td>0.0</td>\n",
       "      <td>0.0</td>\n",
       "      <td>1.0</td>\n",
       "      <td>0.0</td>\n",
       "      <td>...</td>\n",
       "      <td>0.0</td>\n",
       "      <td>0.0</td>\n",
       "      <td>0.0</td>\n",
       "      <td>1.0</td>\n",
       "      <td>0.0</td>\n",
       "      <td>1.0</td>\n",
       "      <td>0.0</td>\n",
       "      <td>0.0</td>\n",
       "      <td>0.0</td>\n",
       "      <td>0.0</td>\n",
       "    </tr>\n",
       "    <tr>\n",
       "      <th>3</th>\n",
       "      <td>767400</td>\n",
       "      <td>弹炸人2222</td>\n",
       "      <td>[Action, Adventure, Casual]</td>\n",
       "      <td>0.0</td>\n",
       "      <td>1.0</td>\n",
       "      <td>1.0</td>\n",
       "      <td>0.0</td>\n",
       "      <td>0.0</td>\n",
       "      <td>1.0</td>\n",
       "      <td>0.0</td>\n",
       "      <td>...</td>\n",
       "      <td>0.0</td>\n",
       "      <td>0.0</td>\n",
       "      <td>0.0</td>\n",
       "      <td>0.0</td>\n",
       "      <td>0.0</td>\n",
       "      <td>0.0</td>\n",
       "      <td>0.0</td>\n",
       "      <td>0.0</td>\n",
       "      <td>0.0</td>\n",
       "      <td>0.0</td>\n",
       "    </tr>\n",
       "    <tr>\n",
       "      <th>4</th>\n",
       "      <td>NaN</td>\n",
       "      <td>NaN</td>\n",
       "      <td>NaN</td>\n",
       "      <td>0.0</td>\n",
       "      <td>1.0</td>\n",
       "      <td>1.0</td>\n",
       "      <td>0.0</td>\n",
       "      <td>0.0</td>\n",
       "      <td>0.0</td>\n",
       "      <td>0.0</td>\n",
       "      <td>...</td>\n",
       "      <td>0.0</td>\n",
       "      <td>0.0</td>\n",
       "      <td>0.0</td>\n",
       "      <td>1.0</td>\n",
       "      <td>0.0</td>\n",
       "      <td>0.0</td>\n",
       "      <td>0.0</td>\n",
       "      <td>0.0</td>\n",
       "      <td>0.0</td>\n",
       "      <td>0.0</td>\n",
       "    </tr>\n",
       "  </tbody>\n",
       "</table>\n",
       "<p>5 rows × 25 columns</p>\n",
       "</div>"
      ],
      "text/plain": [
       "       id                    title                                             genres  Accounting  Action  Adventure  Animation &amp; Modeling  \\\n",
       "0  761140      Lost Summoner Kitty      [Action, Casual, Indie, Simulation, Strategy]         0.0     1.0        0.0                       0.0   \n",
       "1  643980                Ironbound               [Free to Play, Indie, RPG, Strategy]         0.0     0.0        0.0                       0.0   \n",
       "2  670290  Real Pool 3D - Poolians  [Casual, Free to Play, Indie, Simulation, Sports]         0.0     0.0        0.0                       0.0   \n",
       "3  767400                  弹炸人2222                        [Action, Adventure, Casual]         0.0     1.0        1.0                       0.0   \n",
       "4     NaN                      NaN                                                NaN         0.0     1.0        1.0                       0.0   \n",
       "\n",
       "   Audio Production  Casual  Design &amp; Illustration  ...  Photo Editing  RPG  Racing  Simulation  Software Training  Sports  Strategy  Utilities  \\\n",
       "0               0.0     1.0                        0.0  ...            0.0  0.0     0.0         1.0                0.0     0.0       1.0        0.0   \n",
       "1               0.0     0.0                        0.0  ...            0.0  1.0     0.0         0.0                0.0     0.0       1.0        0.0   \n",
       "2               0.0     1.0                        0.0  ...            0.0  0.0     0.0         1.0                0.0     1.0       0.0        0.0   \n",
       "3               0.0     1.0                        0.0  ...            0.0  0.0     0.0         0.0                0.0     0.0       0.0        0.0   \n",
       "4               0.0     0.0                        0.0  ...            0.0  0.0     0.0         1.0                0.0     0.0       0.0        0.0   \n",
       "\n",
       "   Video Production  Web Publishing  \n",
       "0               0.0             0.0  \n",
       "1               0.0             0.0  \n",
       "2               0.0             0.0  \n",
       "3               0.0             0.0  \n",
       "4               0.0             0.0  \n",
       "\n",
       "[5 rows x 25 columns]"
      ]
     },
     "execution_count": 34,
     "metadata": {},
     "output_type": "execute_result"
    }
   ],
   "source": [
    "games_copy = pd.concat([games_copy[['id','title','genres']], genre_encoded], axis=1)\n",
    "games_copy.sort_index(inplace = True)\n",
    "games_copy.head()"
   ]
  },
  {
   "cell_type": "markdown",
   "metadata": {},
   "source": [
    "### Parte 2 - Modelo de recomendación"
   ]
  },
  {
   "cell_type": "markdown",
   "metadata": {},
   "source": [
    "* Para construir el modelo se debe generar un perfil de usuario tomando los '*ratings'* y los géneros. En este sentido, se adicionan los géneros al dataset reviews mediante un *inner join* para de paso excluir los juegos que no tengan géneros."
   ]
  },
  {
   "cell_type": "code",
   "execution_count": 35,
   "metadata": {},
   "outputs": [
    {
     "data": {
      "text/html": [
       "<div>\n",
       "<style scoped>\n",
       "    .dataframe tbody tr th:only-of-type {\n",
       "        vertical-align: middle;\n",
       "    }\n",
       "\n",
       "    .dataframe tbody tr th {\n",
       "        vertical-align: top;\n",
       "    }\n",
       "\n",
       "    .dataframe thead th {\n",
       "        text-align: right;\n",
       "    }\n",
       "</style>\n",
       "<table border=\"1\" class=\"dataframe\">\n",
       "  <thead>\n",
       "    <tr style=\"text-align: right;\">\n",
       "      <th></th>\n",
       "      <th>username</th>\n",
       "      <th>hours</th>\n",
       "      <th>product_id</th>\n",
       "      <th>user_id</th>\n",
       "      <th>ratings</th>\n",
       "      <th>id</th>\n",
       "      <th>title</th>\n",
       "      <th>genres</th>\n",
       "      <th>Accounting</th>\n",
       "      <th>Action</th>\n",
       "      <th>...</th>\n",
       "      <th>Photo Editing</th>\n",
       "      <th>RPG</th>\n",
       "      <th>Racing</th>\n",
       "      <th>Simulation</th>\n",
       "      <th>Software Training</th>\n",
       "      <th>Sports</th>\n",
       "      <th>Strategy</th>\n",
       "      <th>Utilities</th>\n",
       "      <th>Video Production</th>\n",
       "      <th>Web Publishing</th>\n",
       "    </tr>\n",
       "  </thead>\n",
       "  <tbody>\n",
       "    <tr>\n",
       "      <th>0</th>\n",
       "      <td>Puddle</td>\n",
       "      <td>1.2</td>\n",
       "      <td>308040</td>\n",
       "      <td>268687</td>\n",
       "      <td>0</td>\n",
       "      <td>308040</td>\n",
       "      <td>Back to Bed</td>\n",
       "      <td>[Action, Casual, Indie]</td>\n",
       "      <td>0.0</td>\n",
       "      <td>1.0</td>\n",
       "      <td>...</td>\n",
       "      <td>0.0</td>\n",
       "      <td>0.0</td>\n",
       "      <td>0.0</td>\n",
       "      <td>0.0</td>\n",
       "      <td>0.0</td>\n",
       "      <td>0.0</td>\n",
       "      <td>1.0</td>\n",
       "      <td>0.0</td>\n",
       "      <td>0.0</td>\n",
       "      <td>0.0</td>\n",
       "    </tr>\n",
       "    <tr>\n",
       "      <th>1</th>\n",
       "      <td>Lov3toPlay</td>\n",
       "      <td>1.5</td>\n",
       "      <td>308040</td>\n",
       "      <td>202761</td>\n",
       "      <td>0</td>\n",
       "      <td>308040</td>\n",
       "      <td>Back to Bed</td>\n",
       "      <td>[Action, Casual, Indie]</td>\n",
       "      <td>0.0</td>\n",
       "      <td>1.0</td>\n",
       "      <td>...</td>\n",
       "      <td>0.0</td>\n",
       "      <td>0.0</td>\n",
       "      <td>0.0</td>\n",
       "      <td>0.0</td>\n",
       "      <td>0.0</td>\n",
       "      <td>0.0</td>\n",
       "      <td>1.0</td>\n",
       "      <td>0.0</td>\n",
       "      <td>0.0</td>\n",
       "      <td>0.0</td>\n",
       "    </tr>\n",
       "    <tr>\n",
       "      <th>2</th>\n",
       "      <td>unit73e</td>\n",
       "      <td>2.7</td>\n",
       "      <td>308040</td>\n",
       "      <td>508319</td>\n",
       "      <td>0</td>\n",
       "      <td>308040</td>\n",
       "      <td>Back to Bed</td>\n",
       "      <td>[Action, Casual, Indie]</td>\n",
       "      <td>0.0</td>\n",
       "      <td>1.0</td>\n",
       "      <td>...</td>\n",
       "      <td>0.0</td>\n",
       "      <td>0.0</td>\n",
       "      <td>0.0</td>\n",
       "      <td>0.0</td>\n",
       "      <td>0.0</td>\n",
       "      <td>0.0</td>\n",
       "      <td>1.0</td>\n",
       "      <td>0.0</td>\n",
       "      <td>0.0</td>\n",
       "      <td>0.0</td>\n",
       "    </tr>\n",
       "    <tr>\n",
       "      <th>3</th>\n",
       "      <td>Cotton</td>\n",
       "      <td>1.0</td>\n",
       "      <td>308040</td>\n",
       "      <td>72405</td>\n",
       "      <td>0</td>\n",
       "      <td>308040</td>\n",
       "      <td>Back to Bed</td>\n",
       "      <td>[Action, Casual, Indie]</td>\n",
       "      <td>0.0</td>\n",
       "      <td>1.0</td>\n",
       "      <td>...</td>\n",
       "      <td>0.0</td>\n",
       "      <td>0.0</td>\n",
       "      <td>0.0</td>\n",
       "      <td>0.0</td>\n",
       "      <td>0.0</td>\n",
       "      <td>0.0</td>\n",
       "      <td>1.0</td>\n",
       "      <td>0.0</td>\n",
       "      <td>0.0</td>\n",
       "      <td>0.0</td>\n",
       "    </tr>\n",
       "    <tr>\n",
       "      <th>4</th>\n",
       "      <td>Santiago ♥D</td>\n",
       "      <td>1.3</td>\n",
       "      <td>308040</td>\n",
       "      <td>294867</td>\n",
       "      <td>0</td>\n",
       "      <td>308040</td>\n",
       "      <td>Back to Bed</td>\n",
       "      <td>[Action, Casual, Indie]</td>\n",
       "      <td>0.0</td>\n",
       "      <td>1.0</td>\n",
       "      <td>...</td>\n",
       "      <td>0.0</td>\n",
       "      <td>0.0</td>\n",
       "      <td>0.0</td>\n",
       "      <td>0.0</td>\n",
       "      <td>0.0</td>\n",
       "      <td>0.0</td>\n",
       "      <td>1.0</td>\n",
       "      <td>0.0</td>\n",
       "      <td>0.0</td>\n",
       "      <td>0.0</td>\n",
       "    </tr>\n",
       "  </tbody>\n",
       "</table>\n",
       "<p>5 rows × 30 columns</p>\n",
       "</div>"
      ],
      "text/plain": [
       "      username  hours product_id  user_id  ratings      id        title                   genres  Accounting  Action  ...  Photo Editing  RPG  \\\n",
       "0       Puddle    1.2     308040   268687        0  308040  Back to Bed  [Action, Casual, Indie]         0.0     1.0  ...            0.0  0.0   \n",
       "1   Lov3toPlay    1.5     308040   202761        0  308040  Back to Bed  [Action, Casual, Indie]         0.0     1.0  ...            0.0  0.0   \n",
       "2      unit73e    2.7     308040   508319        0  308040  Back to Bed  [Action, Casual, Indie]         0.0     1.0  ...            0.0  0.0   \n",
       "3       Cotton    1.0     308040    72405        0  308040  Back to Bed  [Action, Casual, Indie]         0.0     1.0  ...            0.0  0.0   \n",
       "4  Santiago ♥D    1.3     308040   294867        0  308040  Back to Bed  [Action, Casual, Indie]         0.0     1.0  ...            0.0  0.0   \n",
       "\n",
       "   Racing  Simulation  Software Training  Sports  Strategy  Utilities  Video Production  Web Publishing  \n",
       "0     0.0         0.0                0.0     0.0       1.0        0.0               0.0             0.0  \n",
       "1     0.0         0.0                0.0     0.0       1.0        0.0               0.0             0.0  \n",
       "2     0.0         0.0                0.0     0.0       1.0        0.0               0.0             0.0  \n",
       "3     0.0         0.0                0.0     0.0       1.0        0.0               0.0             0.0  \n",
       "4     0.0         0.0                0.0     0.0       1.0        0.0               0.0             0.0  \n",
       "\n",
       "[5 rows x 30 columns]"
      ]
     },
     "execution_count": 35,
     "metadata": {},
     "output_type": "execute_result"
    }
   ],
   "source": [
    "data_reviews1 = pd.merge(reviews_copy, games_copy, how='inner', left_on='product_id', right_on='id')\n",
    "data_reviews1.head()"
   ]
  },
  {
   "cell_type": "markdown",
   "metadata": {},
   "source": [
    "* Se eliminan filas que contengan vacíos, para garantizar que la matriz pueda generarse sin errores."
   ]
  },
  {
   "cell_type": "code",
   "execution_count": 36,
   "metadata": {},
   "outputs": [
    {
     "data": {
      "text/plain": [
       "username                         0\n",
       "hours                            0\n",
       "product_id                       0\n",
       "user_id                          0\n",
       "ratings                          0\n",
       "id                               0\n",
       "title                            0\n",
       "genres                           0\n",
       "Accounting                   33113\n",
       "Action                       33113\n",
       "Adventure                    33113\n",
       "Animation &amp; Modeling     33113\n",
       "Audio Production             33113\n",
       "Casual                       33113\n",
       "Design &amp; Illustration    33113\n",
       "Early Access                 33113\n",
       "Education                    33113\n",
       "Free to Play                 33113\n",
       "Indie                        33113\n",
       "Massively Multiplayer        33113\n",
       "Photo Editing                33113\n",
       "RPG                          33113\n",
       "Racing                       33113\n",
       "Simulation                   33113\n",
       "Software Training            33113\n",
       "Sports                       33113\n",
       "Strategy                     33113\n",
       "Utilities                    33113\n",
       "Video Production             33113\n",
       "Web Publishing               33113\n",
       "dtype: int64"
      ]
     },
     "execution_count": 36,
     "metadata": {},
     "output_type": "execute_result"
    }
   ],
   "source": [
    "data_reviews1.isna().sum()"
   ]
  },
  {
   "cell_type": "code",
   "execution_count": 37,
   "metadata": {},
   "outputs": [],
   "source": [
    "data_reviews1.dropna(subset=['Accounting','Action','Adventure','Animation &amp; Modeling','Audio Production','Casual','Design &amp; Illustration','Early Access','Education','Free to Play','Indie','Massively Multiplayer','Photo Editing','RPG','Racing','Simulation','Software Training','Sports','Strategy','Utilities','Video Production','Web Publishing'], inplace=True)"
   ]
  },
  {
   "cell_type": "code",
   "execution_count": 38,
   "metadata": {},
   "outputs": [
    {
     "data": {
      "text/plain": [
       "(65891, 30)"
      ]
     },
     "execution_count": 38,
     "metadata": {},
     "output_type": "execute_result"
    }
   ],
   "source": [
    "data_reviews1.shape"
   ]
  },
  {
   "cell_type": "markdown",
   "metadata": {},
   "source": [
    "* Se genera una tabla que solo contenga los géneros, esta se usará para construir la matriz."
   ]
  },
  {
   "cell_type": "code",
   "execution_count": 39,
   "metadata": {},
   "outputs": [],
   "source": [
    "data_reviews1 = data_reviews1.reset_index(drop=True)\n",
    "generos = data_reviews1.drop('username',1).drop('hours',1).drop('product_id',1).drop('user_id',1).drop('ratings',1).drop('id',1).drop('title',1).drop('genres',1)"
   ]
  },
  {
   "cell_type": "code",
   "execution_count": 40,
   "metadata": {},
   "outputs": [
    {
     "data": {
      "text/html": [
       "<div>\n",
       "<style scoped>\n",
       "    .dataframe tbody tr th:only-of-type {\n",
       "        vertical-align: middle;\n",
       "    }\n",
       "\n",
       "    .dataframe tbody tr th {\n",
       "        vertical-align: top;\n",
       "    }\n",
       "\n",
       "    .dataframe thead th {\n",
       "        text-align: right;\n",
       "    }\n",
       "</style>\n",
       "<table border=\"1\" class=\"dataframe\">\n",
       "  <thead>\n",
       "    <tr style=\"text-align: right;\">\n",
       "      <th></th>\n",
       "      <th>Accounting</th>\n",
       "      <th>Action</th>\n",
       "      <th>Adventure</th>\n",
       "      <th>Animation &amp;amp; Modeling</th>\n",
       "      <th>Audio Production</th>\n",
       "      <th>Casual</th>\n",
       "      <th>Design &amp;amp; Illustration</th>\n",
       "      <th>Early Access</th>\n",
       "      <th>Education</th>\n",
       "      <th>Free to Play</th>\n",
       "      <th>...</th>\n",
       "      <th>Photo Editing</th>\n",
       "      <th>RPG</th>\n",
       "      <th>Racing</th>\n",
       "      <th>Simulation</th>\n",
       "      <th>Software Training</th>\n",
       "      <th>Sports</th>\n",
       "      <th>Strategy</th>\n",
       "      <th>Utilities</th>\n",
       "      <th>Video Production</th>\n",
       "      <th>Web Publishing</th>\n",
       "    </tr>\n",
       "  </thead>\n",
       "  <tbody>\n",
       "    <tr>\n",
       "      <th>0</th>\n",
       "      <td>0.0</td>\n",
       "      <td>1.0</td>\n",
       "      <td>0.0</td>\n",
       "      <td>0.0</td>\n",
       "      <td>0.0</td>\n",
       "      <td>0.0</td>\n",
       "      <td>0.0</td>\n",
       "      <td>0.0</td>\n",
       "      <td>0.0</td>\n",
       "      <td>0.0</td>\n",
       "      <td>...</td>\n",
       "      <td>0.0</td>\n",
       "      <td>0.0</td>\n",
       "      <td>0.0</td>\n",
       "      <td>0.0</td>\n",
       "      <td>0.0</td>\n",
       "      <td>0.0</td>\n",
       "      <td>1.0</td>\n",
       "      <td>0.0</td>\n",
       "      <td>0.0</td>\n",
       "      <td>0.0</td>\n",
       "    </tr>\n",
       "    <tr>\n",
       "      <th>1</th>\n",
       "      <td>0.0</td>\n",
       "      <td>1.0</td>\n",
       "      <td>0.0</td>\n",
       "      <td>0.0</td>\n",
       "      <td>0.0</td>\n",
       "      <td>0.0</td>\n",
       "      <td>0.0</td>\n",
       "      <td>0.0</td>\n",
       "      <td>0.0</td>\n",
       "      <td>0.0</td>\n",
       "      <td>...</td>\n",
       "      <td>0.0</td>\n",
       "      <td>0.0</td>\n",
       "      <td>0.0</td>\n",
       "      <td>0.0</td>\n",
       "      <td>0.0</td>\n",
       "      <td>0.0</td>\n",
       "      <td>1.0</td>\n",
       "      <td>0.0</td>\n",
       "      <td>0.0</td>\n",
       "      <td>0.0</td>\n",
       "    </tr>\n",
       "    <tr>\n",
       "      <th>2</th>\n",
       "      <td>0.0</td>\n",
       "      <td>1.0</td>\n",
       "      <td>0.0</td>\n",
       "      <td>0.0</td>\n",
       "      <td>0.0</td>\n",
       "      <td>0.0</td>\n",
       "      <td>0.0</td>\n",
       "      <td>0.0</td>\n",
       "      <td>0.0</td>\n",
       "      <td>0.0</td>\n",
       "      <td>...</td>\n",
       "      <td>0.0</td>\n",
       "      <td>0.0</td>\n",
       "      <td>0.0</td>\n",
       "      <td>0.0</td>\n",
       "      <td>0.0</td>\n",
       "      <td>0.0</td>\n",
       "      <td>1.0</td>\n",
       "      <td>0.0</td>\n",
       "      <td>0.0</td>\n",
       "      <td>0.0</td>\n",
       "    </tr>\n",
       "    <tr>\n",
       "      <th>3</th>\n",
       "      <td>0.0</td>\n",
       "      <td>1.0</td>\n",
       "      <td>0.0</td>\n",
       "      <td>0.0</td>\n",
       "      <td>0.0</td>\n",
       "      <td>0.0</td>\n",
       "      <td>0.0</td>\n",
       "      <td>0.0</td>\n",
       "      <td>0.0</td>\n",
       "      <td>0.0</td>\n",
       "      <td>...</td>\n",
       "      <td>0.0</td>\n",
       "      <td>0.0</td>\n",
       "      <td>0.0</td>\n",
       "      <td>0.0</td>\n",
       "      <td>0.0</td>\n",
       "      <td>0.0</td>\n",
       "      <td>1.0</td>\n",
       "      <td>0.0</td>\n",
       "      <td>0.0</td>\n",
       "      <td>0.0</td>\n",
       "    </tr>\n",
       "    <tr>\n",
       "      <th>4</th>\n",
       "      <td>0.0</td>\n",
       "      <td>1.0</td>\n",
       "      <td>0.0</td>\n",
       "      <td>0.0</td>\n",
       "      <td>0.0</td>\n",
       "      <td>0.0</td>\n",
       "      <td>0.0</td>\n",
       "      <td>0.0</td>\n",
       "      <td>0.0</td>\n",
       "      <td>0.0</td>\n",
       "      <td>...</td>\n",
       "      <td>0.0</td>\n",
       "      <td>0.0</td>\n",
       "      <td>0.0</td>\n",
       "      <td>0.0</td>\n",
       "      <td>0.0</td>\n",
       "      <td>0.0</td>\n",
       "      <td>1.0</td>\n",
       "      <td>0.0</td>\n",
       "      <td>0.0</td>\n",
       "      <td>0.0</td>\n",
       "    </tr>\n",
       "  </tbody>\n",
       "</table>\n",
       "<p>5 rows × 22 columns</p>\n",
       "</div>"
      ],
      "text/plain": [
       "   Accounting  Action  Adventure  Animation &amp; Modeling  Audio Production  Casual  Design &amp; Illustration  Early Access  Education  \\\n",
       "0         0.0     1.0        0.0                       0.0               0.0     0.0                        0.0           0.0        0.0   \n",
       "1         0.0     1.0        0.0                       0.0               0.0     0.0                        0.0           0.0        0.0   \n",
       "2         0.0     1.0        0.0                       0.0               0.0     0.0                        0.0           0.0        0.0   \n",
       "3         0.0     1.0        0.0                       0.0               0.0     0.0                        0.0           0.0        0.0   \n",
       "4         0.0     1.0        0.0                       0.0               0.0     0.0                        0.0           0.0        0.0   \n",
       "\n",
       "   Free to Play  ...  Photo Editing  RPG  Racing  Simulation  Software Training  Sports  Strategy  Utilities  Video Production  Web Publishing  \n",
       "0           0.0  ...            0.0  0.0     0.0         0.0                0.0     0.0       1.0        0.0               0.0             0.0  \n",
       "1           0.0  ...            0.0  0.0     0.0         0.0                0.0     0.0       1.0        0.0               0.0             0.0  \n",
       "2           0.0  ...            0.0  0.0     0.0         0.0                0.0     0.0       1.0        0.0               0.0             0.0  \n",
       "3           0.0  ...            0.0  0.0     0.0         0.0                0.0     0.0       1.0        0.0               0.0             0.0  \n",
       "4           0.0  ...            0.0  0.0     0.0         0.0                0.0     0.0       1.0        0.0               0.0             0.0  \n",
       "\n",
       "[5 rows x 22 columns]"
      ]
     },
     "execution_count": 40,
     "metadata": {},
     "output_type": "execute_result"
    }
   ],
   "source": [
    "generos.head()"
   ]
  },
  {
   "cell_type": "markdown",
   "metadata": {},
   "source": [
    "***Generación del perfil de usuario***"
   ]
  },
  {
   "cell_type": "markdown",
   "metadata": {},
   "source": [
    "Utilizando las revisiones (*'ratings'*) y multiplicándolas dentro de la tabla de géneros, se realiza una ponderación de cada género, resultando un producto escalado entre una matriz y un vector. Para esto se usará la función *'dot'*."
   ]
  },
  {
   "cell_type": "code",
   "execution_count": 41,
   "metadata": {},
   "outputs": [],
   "source": [
    "perfil_usuario= generos.transpose().dot(data_reviews1['ratings'])"
   ]
  },
  {
   "cell_type": "code",
   "execution_count": 42,
   "metadata": {},
   "outputs": [
    {
     "data": {
      "text/plain": [
       "Accounting                       0.0\n",
       "Action                       16663.0\n",
       "Adventure                     8285.0\n",
       "Animation &amp; Modeling       126.0\n",
       "Audio Production                57.0\n",
       "Casual                       10672.0\n",
       "Design &amp; Illustration      414.0\n",
       "Early Access                  1121.0\n",
       "Education                       19.0\n",
       "Free to Play                  2778.0\n",
       "Indie                        17873.0\n",
       "Massively Multiplayer         1612.0\n",
       "Photo Editing                   86.0\n",
       "RPG                           9126.0\n",
       "Racing                        1556.0\n",
       "Simulation                    9997.0\n",
       "Software Training               65.0\n",
       "Sports                         774.0\n",
       "Strategy                     10834.0\n",
       "Utilities                      398.0\n",
       "Video Production               182.0\n",
       "Web Publishing                 343.0\n",
       "dtype: float64"
      ]
     },
     "execution_count": 42,
     "metadata": {},
     "output_type": "execute_result"
    }
   ],
   "source": [
    "perfil_usuario"
   ]
  },
  {
   "cell_type": "markdown",
   "metadata": {},
   "source": [
    "* Después de tener el perfil del usuario, se extrae una tabla de géneros poniendo como índice el *'id'* de cada juego, esto con el fin de poder cruzar los resultados con la tabla original de juegos y traer el nombre de cada juego recomendado."
   ]
  },
  {
   "cell_type": "code",
   "execution_count": 43,
   "metadata": {},
   "outputs": [],
   "source": [
    "tabla = games_copy.reset_index(drop=True)\n",
    "tabla_generos = tabla.drop('title',1).drop('genres',1)\n",
    "tabla_generos.dropna(subset=['id'], inplace=True)"
   ]
  },
  {
   "cell_type": "code",
   "execution_count": 44,
   "metadata": {},
   "outputs": [],
   "source": [
    "tabla_generos = tabla_generos.set_index(tabla_generos['id'])"
   ]
  },
  {
   "cell_type": "code",
   "execution_count": 45,
   "metadata": {},
   "outputs": [
    {
     "data": {
      "text/html": [
       "<div>\n",
       "<style scoped>\n",
       "    .dataframe tbody tr th:only-of-type {\n",
       "        vertical-align: middle;\n",
       "    }\n",
       "\n",
       "    .dataframe tbody tr th {\n",
       "        vertical-align: top;\n",
       "    }\n",
       "\n",
       "    .dataframe thead th {\n",
       "        text-align: right;\n",
       "    }\n",
       "</style>\n",
       "<table border=\"1\" class=\"dataframe\">\n",
       "  <thead>\n",
       "    <tr style=\"text-align: right;\">\n",
       "      <th></th>\n",
       "      <th>Accounting</th>\n",
       "      <th>Action</th>\n",
       "      <th>Adventure</th>\n",
       "      <th>Animation &amp;amp; Modeling</th>\n",
       "      <th>Audio Production</th>\n",
       "      <th>Casual</th>\n",
       "      <th>Design &amp;amp; Illustration</th>\n",
       "      <th>Early Access</th>\n",
       "      <th>Education</th>\n",
       "      <th>Free to Play</th>\n",
       "      <th>...</th>\n",
       "      <th>Photo Editing</th>\n",
       "      <th>RPG</th>\n",
       "      <th>Racing</th>\n",
       "      <th>Simulation</th>\n",
       "      <th>Software Training</th>\n",
       "      <th>Sports</th>\n",
       "      <th>Strategy</th>\n",
       "      <th>Utilities</th>\n",
       "      <th>Video Production</th>\n",
       "      <th>Web Publishing</th>\n",
       "    </tr>\n",
       "    <tr>\n",
       "      <th>id</th>\n",
       "      <th></th>\n",
       "      <th></th>\n",
       "      <th></th>\n",
       "      <th></th>\n",
       "      <th></th>\n",
       "      <th></th>\n",
       "      <th></th>\n",
       "      <th></th>\n",
       "      <th></th>\n",
       "      <th></th>\n",
       "      <th></th>\n",
       "      <th></th>\n",
       "      <th></th>\n",
       "      <th></th>\n",
       "      <th></th>\n",
       "      <th></th>\n",
       "      <th></th>\n",
       "      <th></th>\n",
       "      <th></th>\n",
       "      <th></th>\n",
       "      <th></th>\n",
       "    </tr>\n",
       "  </thead>\n",
       "  <tbody>\n",
       "    <tr>\n",
       "      <th>761140</th>\n",
       "      <td>0.0</td>\n",
       "      <td>1.0</td>\n",
       "      <td>0.0</td>\n",
       "      <td>0.0</td>\n",
       "      <td>0.0</td>\n",
       "      <td>1.0</td>\n",
       "      <td>0.0</td>\n",
       "      <td>0.0</td>\n",
       "      <td>0.0</td>\n",
       "      <td>0.0</td>\n",
       "      <td>...</td>\n",
       "      <td>0.0</td>\n",
       "      <td>0.0</td>\n",
       "      <td>0.0</td>\n",
       "      <td>1.0</td>\n",
       "      <td>0.0</td>\n",
       "      <td>0.0</td>\n",
       "      <td>1.0</td>\n",
       "      <td>0.0</td>\n",
       "      <td>0.0</td>\n",
       "      <td>0.0</td>\n",
       "    </tr>\n",
       "    <tr>\n",
       "      <th>643980</th>\n",
       "      <td>0.0</td>\n",
       "      <td>0.0</td>\n",
       "      <td>0.0</td>\n",
       "      <td>0.0</td>\n",
       "      <td>0.0</td>\n",
       "      <td>0.0</td>\n",
       "      <td>0.0</td>\n",
       "      <td>0.0</td>\n",
       "      <td>0.0</td>\n",
       "      <td>1.0</td>\n",
       "      <td>...</td>\n",
       "      <td>0.0</td>\n",
       "      <td>1.0</td>\n",
       "      <td>0.0</td>\n",
       "      <td>0.0</td>\n",
       "      <td>0.0</td>\n",
       "      <td>0.0</td>\n",
       "      <td>1.0</td>\n",
       "      <td>0.0</td>\n",
       "      <td>0.0</td>\n",
       "      <td>0.0</td>\n",
       "    </tr>\n",
       "    <tr>\n",
       "      <th>670290</th>\n",
       "      <td>0.0</td>\n",
       "      <td>0.0</td>\n",
       "      <td>0.0</td>\n",
       "      <td>0.0</td>\n",
       "      <td>0.0</td>\n",
       "      <td>1.0</td>\n",
       "      <td>0.0</td>\n",
       "      <td>0.0</td>\n",
       "      <td>0.0</td>\n",
       "      <td>1.0</td>\n",
       "      <td>...</td>\n",
       "      <td>0.0</td>\n",
       "      <td>0.0</td>\n",
       "      <td>0.0</td>\n",
       "      <td>1.0</td>\n",
       "      <td>0.0</td>\n",
       "      <td>1.0</td>\n",
       "      <td>0.0</td>\n",
       "      <td>0.0</td>\n",
       "      <td>0.0</td>\n",
       "      <td>0.0</td>\n",
       "    </tr>\n",
       "    <tr>\n",
       "      <th>767400</th>\n",
       "      <td>0.0</td>\n",
       "      <td>1.0</td>\n",
       "      <td>1.0</td>\n",
       "      <td>0.0</td>\n",
       "      <td>0.0</td>\n",
       "      <td>1.0</td>\n",
       "      <td>0.0</td>\n",
       "      <td>0.0</td>\n",
       "      <td>0.0</td>\n",
       "      <td>0.0</td>\n",
       "      <td>...</td>\n",
       "      <td>0.0</td>\n",
       "      <td>0.0</td>\n",
       "      <td>0.0</td>\n",
       "      <td>0.0</td>\n",
       "      <td>0.0</td>\n",
       "      <td>0.0</td>\n",
       "      <td>0.0</td>\n",
       "      <td>0.0</td>\n",
       "      <td>0.0</td>\n",
       "      <td>0.0</td>\n",
       "    </tr>\n",
       "    <tr>\n",
       "      <th>772540</th>\n",
       "      <td>0.0</td>\n",
       "      <td>0.0</td>\n",
       "      <td>0.0</td>\n",
       "      <td>0.0</td>\n",
       "      <td>0.0</td>\n",
       "      <td>0.0</td>\n",
       "      <td>0.0</td>\n",
       "      <td>0.0</td>\n",
       "      <td>0.0</td>\n",
       "      <td>1.0</td>\n",
       "      <td>...</td>\n",
       "      <td>0.0</td>\n",
       "      <td>0.0</td>\n",
       "      <td>0.0</td>\n",
       "      <td>1.0</td>\n",
       "      <td>0.0</td>\n",
       "      <td>1.0</td>\n",
       "      <td>0.0</td>\n",
       "      <td>0.0</td>\n",
       "      <td>0.0</td>\n",
       "      <td>0.0</td>\n",
       "    </tr>\n",
       "  </tbody>\n",
       "</table>\n",
       "<p>5 rows × 22 columns</p>\n",
       "</div>"
      ],
      "text/plain": [
       "        Accounting  Action  Adventure  Animation &amp; Modeling  Audio Production  Casual  Design &amp; Illustration  Early Access  Education  \\\n",
       "id                                                                                                                                              \n",
       "761140         0.0     1.0        0.0                       0.0               0.0     1.0                        0.0           0.0        0.0   \n",
       "643980         0.0     0.0        0.0                       0.0               0.0     0.0                        0.0           0.0        0.0   \n",
       "670290         0.0     0.0        0.0                       0.0               0.0     1.0                        0.0           0.0        0.0   \n",
       "767400         0.0     1.0        1.0                       0.0               0.0     1.0                        0.0           0.0        0.0   \n",
       "772540         0.0     0.0        0.0                       0.0               0.0     0.0                        0.0           0.0        0.0   \n",
       "\n",
       "        Free to Play  ...  Photo Editing  RPG  Racing  Simulation  Software Training  Sports  Strategy  Utilities  Video Production  Web Publishing  \n",
       "id                    ...                                                                                                                            \n",
       "761140           0.0  ...            0.0  0.0     0.0         1.0                0.0     0.0       1.0        0.0               0.0             0.0  \n",
       "643980           1.0  ...            0.0  1.0     0.0         0.0                0.0     0.0       1.0        0.0               0.0             0.0  \n",
       "670290           1.0  ...            0.0  0.0     0.0         1.0                0.0     1.0       0.0        0.0               0.0             0.0  \n",
       "767400           0.0  ...            0.0  0.0     0.0         0.0                0.0     0.0       0.0        0.0               0.0             0.0  \n",
       "772540           1.0  ...            0.0  0.0     0.0         1.0                0.0     1.0       0.0        0.0               0.0             0.0  \n",
       "\n",
       "[5 rows x 22 columns]"
      ]
     },
     "execution_count": 45,
     "metadata": {},
     "output_type": "execute_result"
    }
   ],
   "source": [
    "tabla_generos = tabla_generos.drop('id',1)\n",
    "tabla_generos.isna().sum()\n",
    "tabla_generos.head()"
   ]
  },
  {
   "cell_type": "markdown",
   "metadata": {},
   "source": [
    "* Para garantizar que las recomendaciones se generen sin errores, se eliminan las filas que no contengan información de los géneros."
   ]
  },
  {
   "cell_type": "code",
   "execution_count": 46,
   "metadata": {},
   "outputs": [
    {
     "data": {
      "text/plain": [
       "Accounting                   3217\n",
       "Action                       3217\n",
       "Adventure                    3217\n",
       "Animation &amp; Modeling     3217\n",
       "Audio Production             3217\n",
       "Casual                       3217\n",
       "Design &amp; Illustration    3217\n",
       "Early Access                 3217\n",
       "Education                    3217\n",
       "Free to Play                 3217\n",
       "Indie                        3217\n",
       "Massively Multiplayer        3217\n",
       "Photo Editing                3217\n",
       "RPG                          3217\n",
       "Racing                       3217\n",
       "Simulation                   3217\n",
       "Software Training            3217\n",
       "Sports                       3217\n",
       "Strategy                     3217\n",
       "Utilities                    3217\n",
       "Video Production             3217\n",
       "Web Publishing               3217\n",
       "dtype: int64"
      ]
     },
     "execution_count": 46,
     "metadata": {},
     "output_type": "execute_result"
    }
   ],
   "source": [
    "tabla_generos.isna().sum()"
   ]
  },
  {
   "cell_type": "code",
   "execution_count": 47,
   "metadata": {},
   "outputs": [],
   "source": [
    "tabla_generos.dropna(subset=['Accounting','Action','Adventure','Animation &amp; Modeling','Audio Production','Casual','Design &amp; Illustration','Early Access','Education','Free to Play','Indie','Massively Multiplayer','Photo Editing','RPG','Racing','Simulation','Software Training','Sports','Strategy','Utilities','Video Production','Web Publishing'], inplace=True)"
   ]
  },
  {
   "cell_type": "code",
   "execution_count": 48,
   "metadata": {},
   "outputs": [
    {
     "data": {
      "text/plain": [
       "Accounting                   0\n",
       "Action                       0\n",
       "Adventure                    0\n",
       "Animation &amp; Modeling     0\n",
       "Audio Production             0\n",
       "Casual                       0\n",
       "Design &amp; Illustration    0\n",
       "Early Access                 0\n",
       "Education                    0\n",
       "Free to Play                 0\n",
       "Indie                        0\n",
       "Massively Multiplayer        0\n",
       "Photo Editing                0\n",
       "RPG                          0\n",
       "Racing                       0\n",
       "Simulation                   0\n",
       "Software Training            0\n",
       "Sports                       0\n",
       "Strategy                     0\n",
       "Utilities                    0\n",
       "Video Production             0\n",
       "Web Publishing               0\n",
       "dtype: int64"
      ]
     },
     "execution_count": 48,
     "metadata": {},
     "output_type": "execute_result"
    }
   ],
   "source": [
    "tabla_generos.isna().sum()"
   ]
  },
  {
   "cell_type": "markdown",
   "metadata": {},
   "source": [
    "***Creación del sistema de recomendación***"
   ]
  },
  {
   "cell_type": "markdown",
   "metadata": {},
   "source": [
    "Después de tener el perfil de cada usuario y la lista completa de juegos con sus respectivos géneros, se lleva el peso promedio de cada juego basado en el perfil de ingreso para luego recomendar los primeros 20 juegos que más se adecúan a ese perfil."
   ]
  },
  {
   "cell_type": "code",
   "execution_count": 49,
   "metadata": {},
   "outputs": [
    {
     "data": {
      "text/plain": [
       "id\n",
       "761140    0.710242\n",
       "643980    0.436767\n",
       "670290    0.452716\n",
       "767400    0.383089\n",
       "772540    0.337940\n",
       "dtype: float64"
      ]
     },
     "execution_count": 49,
     "metadata": {},
     "output_type": "execute_result"
    }
   ],
   "source": [
    "recomendacion_table = ((tabla_generos*perfil_usuario).sum(axis=1))/(perfil_usuario.sum())\n",
    "recomendacion_table.head()"
   ]
  },
  {
   "cell_type": "markdown",
   "metadata": {},
   "source": [
    "* Se ordenan las recomendaciones en orden descendente, para poner las de más peso al inicio."
   ]
  },
  {
   "cell_type": "code",
   "execution_count": 50,
   "metadata": {},
   "outputs": [
    {
     "data": {
      "text/plain": [
       "id\n",
       "405350    0.969768\n",
       "602510    0.939891\n",
       "485950    0.939891\n",
       "500590    0.926286\n",
       "590630    0.926286\n",
       "dtype: float64"
      ]
     },
     "execution_count": 50,
     "metadata": {},
     "output_type": "execute_result"
    }
   ],
   "source": [
    "recomendacion_table = recomendacion_table.sort_values(ascending=False)\n",
    "recomendacion_table.head()"
   ]
  },
  {
   "cell_type": "markdown",
   "metadata": {},
   "source": [
    "* Finalmente se cruza con el dataset original de juegos para traer el nombre de los juegos recomendados."
   ]
  },
  {
   "cell_type": "code",
   "execution_count": 51,
   "metadata": {},
   "outputs": [],
   "source": [
    "games = data_games.loc[data_games['id'].isin(recomendacion_table.head(20).keys())]\n",
    "n_games = games['title']"
   ]
  },
  {
   "cell_type": "code",
   "execution_count": 52,
   "metadata": {},
   "outputs": [
    {
     "data": {
      "text/plain": [
       "3552                           Kitty Powers' Matchmaker\n",
       "3850                                   Ice Cream Surfer\n",
       "4141                         Celestian Tales: Old North\n",
       "4188                                        Marble Muse\n",
       "8092       DROD: Smitemaster's Selection Expansions 1+2\n",
       "8494                                  Lords of New York\n",
       "9631          Vinnie and Spike - Awesomenauts Character\n",
       "10424                                    Girls and Quiz\n",
       "10474                        Gettysburg: The Tide Turns\n",
       "10728                                    Fable Rush OST\n",
       "12461                                     Now Man Flies\n",
       "12874                         Bridge Constructor Portal\n",
       "14722                                Last Toon Standing\n",
       "16441                                      Mad Arkanoid\n",
       "19156    Fantasy Grounds - A Wedding at Axebridge (RMC)\n",
       "20871                        Yomawari: Night Alone / 夜廻\n",
       "22321                         Puppy Dog: Jigsaw Puzzles\n",
       "22957                              Rise of the Ancients\n",
       "22999                                         Dual Core\n",
       "25405                                          DGU Demo\n",
       "Name: title, dtype: object"
      ]
     },
     "execution_count": 52,
     "metadata": {},
     "output_type": "execute_result"
    }
   ],
   "source": [
    "n_games"
   ]
  },
  {
   "cell_type": "markdown",
   "metadata": {},
   "source": [
    "***Probando el recomendador con un usuario aleatorio***"
   ]
  },
  {
   "cell_type": "markdown",
   "metadata": {},
   "source": [
    "* Se muestran los juegos que un usuario específico ha jugado."
   ]
  },
  {
   "cell_type": "code",
   "execution_count": 89,
   "metadata": {},
   "outputs": [
    {
     "data": {
      "text/html": [
       "<div>\n",
       "<style scoped>\n",
       "    .dataframe tbody tr th:only-of-type {\n",
       "        vertical-align: middle;\n",
       "    }\n",
       "\n",
       "    .dataframe tbody tr th {\n",
       "        vertical-align: top;\n",
       "    }\n",
       "\n",
       "    .dataframe thead th {\n",
       "        text-align: right;\n",
       "    }\n",
       "</style>\n",
       "<table border=\"1\" class=\"dataframe\">\n",
       "  <thead>\n",
       "    <tr style=\"text-align: right;\">\n",
       "      <th></th>\n",
       "      <th>title</th>\n",
       "      <th>genres</th>\n",
       "    </tr>\n",
       "  </thead>\n",
       "  <tbody>\n",
       "    <tr>\n",
       "      <th>0</th>\n",
       "      <td>Back to Bed</td>\n",
       "      <td>[Action, Casual, Indie]</td>\n",
       "    </tr>\n",
       "    <tr>\n",
       "      <th>5790</th>\n",
       "      <td>Hotline Miami 2: Wrong Number</td>\n",
       "      <td>[Action, Indie]</td>\n",
       "    </tr>\n",
       "    <tr>\n",
       "      <th>31607</th>\n",
       "      <td>Overlord™</td>\n",
       "      <td>[RPG]</td>\n",
       "    </tr>\n",
       "    <tr>\n",
       "      <th>37920</th>\n",
       "      <td>LYNE</td>\n",
       "      <td>[Casual, Indie]</td>\n",
       "    </tr>\n",
       "    <tr>\n",
       "      <th>48991</th>\n",
       "      <td>Hunted: The Demon’s Forge™</td>\n",
       "      <td>[Action, Adventure]</td>\n",
       "    </tr>\n",
       "    <tr>\n",
       "      <th>50976</th>\n",
       "      <td>Farming Simulator 15</td>\n",
       "      <td>[Simulation]</td>\n",
       "    </tr>\n",
       "    <tr>\n",
       "      <th>56200</th>\n",
       "      <td>Divinity: Original Sin (Classic)</td>\n",
       "      <td>[Adventure, Indie, RPG, Strategy]</td>\n",
       "    </tr>\n",
       "  </tbody>\n",
       "</table>\n",
       "</div>"
      ],
      "text/plain": [
       "                                  title                             genres\n",
       "0                           Back to Bed            [Action, Casual, Indie]\n",
       "5790      Hotline Miami 2: Wrong Number                    [Action, Indie]\n",
       "31607                         Overlord™                              [RPG]\n",
       "37920                              LYNE                    [Casual, Indie]\n",
       "48991        Hunted: The Demon’s Forge™                [Action, Adventure]\n",
       "50976              Farming Simulator 15                       [Simulation]\n",
       "56200  Divinity: Original Sin (Classic)  [Adventure, Indie, RPG, Strategy]"
      ]
     },
     "execution_count": 89,
     "metadata": {},
     "output_type": "execute_result"
    }
   ],
   "source": [
    "user = data_reviews1[(data_reviews1[\"user_id\"] == 268687)]\n",
    "user[['title', 'genres']]"
   ]
  },
  {
   "cell_type": "code",
   "execution_count": null,
   "metadata": {},
   "outputs": [],
   "source": [
    "* Se extrae la tabla de géneros del usuario."
   ]
  },
  {
   "cell_type": "code",
   "execution_count": 90,
   "metadata": {},
   "outputs": [],
   "source": [
    "tabla_2 = user.reset_index(drop=True)\n",
    "tabla_user = tabla_2.drop('username',1).drop('hours',1).drop('user_id',1).drop('ratings',1).drop('id',1).drop('title',1).drop('genres',1)\n",
    "tabla_user.dropna(subset=['product_id'], inplace=True)"
   ]
  },
  {
   "cell_type": "code",
   "execution_count": 91,
   "metadata": {},
   "outputs": [],
   "source": [
    "tabla_user = tabla_user.set_index(tabla_user['product_id'])"
   ]
  },
  {
   "cell_type": "code",
   "execution_count": null,
   "metadata": {},
   "outputs": [],
   "source": [
    "tabla_user = tabla_user.drop('product_id',1)"
   ]
  },
  {
   "cell_type": "markdown",
   "metadata": {},
   "source": [
    "* Luego se realiza una recomendación específica para el usuario, tomando como base el perfil del usuario generado anteriormente."
   ]
  },
  {
   "cell_type": "code",
   "execution_count": null,
   "metadata": {},
   "outputs": [],
   "source": [
    "recomendacion_user = ((tabla_user*perfil_usuario).sum(axis=1))/(perfil_usuario.sum())\n",
    "recomendacion_user = recomendacion_user.sort_values(ascending=False)\n",
    "recomendacion_user.head()"
   ]
  },
  {
   "cell_type": "markdown",
   "metadata": {},
   "source": [
    "* Por último se muestran los juegos recomendados para el usuario y sus respectivos géneros."
   ]
  },
  {
   "cell_type": "code",
   "execution_count": 94,
   "metadata": {},
   "outputs": [
    {
     "data": {
      "text/html": [
       "<div>\n",
       "<style scoped>\n",
       "    .dataframe tbody tr th:only-of-type {\n",
       "        vertical-align: middle;\n",
       "    }\n",
       "\n",
       "    .dataframe tbody tr th {\n",
       "        vertical-align: top;\n",
       "    }\n",
       "\n",
       "    .dataframe thead th {\n",
       "        text-align: right;\n",
       "    }\n",
       "</style>\n",
       "<table border=\"1\" class=\"dataframe\">\n",
       "  <thead>\n",
       "    <tr style=\"text-align: right;\">\n",
       "      <th></th>\n",
       "      <th>title</th>\n",
       "      <th>genres</th>\n",
       "    </tr>\n",
       "  </thead>\n",
       "  <tbody>\n",
       "    <tr>\n",
       "      <th>348</th>\n",
       "      <td>Overlord™</td>\n",
       "      <td>[RPG]</td>\n",
       "    </tr>\n",
       "    <tr>\n",
       "      <th>642</th>\n",
       "      <td>Hunted: The Demon’s Forge™</td>\n",
       "      <td>[Action, Adventure]</td>\n",
       "    </tr>\n",
       "    <tr>\n",
       "      <th>1972</th>\n",
       "      <td>LYNE</td>\n",
       "      <td>[Casual, Indie]</td>\n",
       "    </tr>\n",
       "    <tr>\n",
       "      <th>2353</th>\n",
       "      <td>Divinity: Original Sin (Classic)</td>\n",
       "      <td>[Adventure, Indie, RPG, Strategy]</td>\n",
       "    </tr>\n",
       "    <tr>\n",
       "      <th>2798</th>\n",
       "      <td>Farming Simulator 15</td>\n",
       "      <td>[Simulation]</td>\n",
       "    </tr>\n",
       "    <tr>\n",
       "      <th>27167</th>\n",
       "      <td>Hotline Miami 2: Wrong Number</td>\n",
       "      <td>[Action, Indie]</td>\n",
       "    </tr>\n",
       "    <tr>\n",
       "      <th>28585</th>\n",
       "      <td>Back to Bed</td>\n",
       "      <td>[Action, Casual, Indie]</td>\n",
       "    </tr>\n",
       "  </tbody>\n",
       "</table>\n",
       "</div>"
      ],
      "text/plain": [
       "                                  title                             genres\n",
       "348                           Overlord™                              [RPG]\n",
       "642          Hunted: The Demon’s Forge™                [Action, Adventure]\n",
       "1972                               LYNE                    [Casual, Indie]\n",
       "2353   Divinity: Original Sin (Classic)  [Adventure, Indie, RPG, Strategy]\n",
       "2798               Farming Simulator 15                       [Simulation]\n",
       "27167     Hotline Miami 2: Wrong Number                    [Action, Indie]\n",
       "28585                       Back to Bed            [Action, Casual, Indie]"
      ]
     },
     "execution_count": 94,
     "metadata": {},
     "output_type": "execute_result"
    }
   ],
   "source": [
    "games_u = data_games.loc[data_games['id'].isin(recomendacion_user.head(10).keys())]\n",
    "games_u[['title', 'genres']]"
   ]
  },
  {
   "cell_type": "markdown",
   "metadata": {},
   "source": [
    "**Análisis:** En el caso de este usuario, los géneros de los juegos que normalmente juega son *Action, Casual, Indie, RPG, Adventure, Simulation, Strategy*. Se puede evidenciar como el sistema de recomendación muestra juegos que están contenidos dentro de estos géneros y no genera recomendaciones por fuera de los mismos. Es importante tener en cuenta que los géneros iniciales no tenían un orden, por lo que no es comparable el orden de recomendación."
   ]
  },
  {
   "cell_type": "code",
   "execution_count": null,
   "metadata": {},
   "outputs": [],
   "source": []
  }
 ],
 "metadata": {
  "kernelspec": {
   "display_name": "Python 3",
   "language": "python",
   "name": "python3"
  },
  "language_info": {
   "codemirror_mode": {
    "name": "ipython",
    "version": 3
   },
   "file_extension": ".py",
   "mimetype": "text/x-python",
   "name": "python",
   "nbconvert_exporter": "python",
   "pygments_lexer": "ipython3",
   "version": "3.8.3"
  }
 },
 "nbformat": 4,
 "nbformat_minor": 4
}
